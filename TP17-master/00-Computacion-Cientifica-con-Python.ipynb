{
 "cells": [
  {
   "cell_type": "markdown",
   "metadata": {},
   "source": [
    "# Introducción a la Computación Científica con Python"
   ]
  },
  {
   "cell_type": "markdown",
   "metadata": {},
   "source": [
    "Versión original en inglés de [J.R. Johansson](http://jrjohansson.github.io/) (robert@riken.jp).\n",
    "\n",
    "También se han incluido elementos del tutorial de Damián Avila:  https://github.com/damianavila/Python-Cientifico-HCC\n",
    "\n",
    "Traducido/Adaptado por [G.F. Rubilar](http://google.com/+GuillermoRubilar).\n",
    "\n",
    "La última versión de estos [Notebooks](http://ipython.org/notebook.html) está disponible en [http://github.com/gfrubi/clases-python-cientifico](http://github.com/gfrubi/clases-python-cientifico).\n",
    "\n",
    "La última versión del original (en inglés) está disponible en [http://github.com/jrjohansson/scientific-python-lectures](http://github.com/jrjohansson/scientific-python-lectures).\n",
    "Los otros notebooks de esta serie están listados en [http://jrjohansson.github.com](http://jrjohansson.github.com)."
   ]
  },
  {
   "cell_type": "markdown",
   "metadata": {},
   "source": [
    "## El rol de la computación en las Ciencias"
   ]
  },
  {
   "cell_type": "markdown",
   "metadata": {},
   "source": [
    "La Ciencia es dividida tradicionalmente en una rama experimental y una teórica, pero durante las últimas décadas la computación ha emergido como una parte muy importante de la Ciencia. La **computación científica** está a menudo muy relacionada con la teoría, pero posee también muchas características comunes con el trabajo experimental. Es por esto que a menudo es vista como una tercera rama de las ciencias. En muchos campos de la Ciencia, el trabajo computacional es un complemento importante tanto para el experimento como para la teoría, y actualmente una gran mayoría de las publicaciones experimentales y teóricas involucran cálculos numéricos, simulaciones y/o modelamiento computacional.\n",
    "\n",
    "<center>\n",
    "<!-- offline version <img src=\"files/images/teoria-experimento-computacion.png\" width=\"300\"> -->\n",
    "<img src=\"https://raw.github.com/gfrubi/clases-python-cientifico/master/images/teoria-experimento-computacion.png\" width=\"300\">   \n",
    "</center>\n",
    "\n",
    "En las áreas experimentales y teóricas existen códigos de conducta bien establecidos referentes a cómo los resultados y métodos son publicados y puestos a disposición de otr@s científic@s. Por ejemplo, en las áreas teóricas, las derivaciones, demostraciones y otros resultados son publicados en detalle, o disponibles bajo solicitud. Similarmente, en el trabajo experimental, los métodos usados y los resultados son publicados, y todos los datos experimentales debiesen estar disponibles al ser solicitados. Se considera una práctica anticientífica el ocultar detalles cruciales de una prueba teórica o de un método experimental, que pudiesen impedir que otr@s científic@s reproduzcan los resultados.\n",
    "\n",
    "En las ciencias computacionales no existen aún guías bien establecidas de cómo debiesen ser manejados el código fuente y los datos generados. Por ejemplo, es relativamente raro que el código fuente usado en simulaciones en artículos publicados sea puesto a disposición de los lectores, en contraste con la naturaleza abierta del trabajo experimental y teórico. Además, no es poco común que el código fuente del software de simulación sea reservado y considerado como una ventaja competitiva (o no necesario de ser publicado). \n",
    "\n",
    "Sin embargo, este punto a comenzado a atraer cada vez mayor atención, y algunas editoriales de revistas de alto nivel han hecho llamados a una mayor transparencia en las ciencias computacionales. Algunas revistas prestigiosas, incluyendo [Science](http://www.sciencemag.org/), han comenzado a requerir que los autores suministren a los lectores, luego de solicitarlo, el código fuente del software de simulación usado en las publicaciones. \n",
    "\n",
    "También se está discutiendo cómo facilitar la distribución de software científico, por ejemplo como material suplementario a los artículos científicos."
   ]
  },
  {
   "cell_type": "markdown",
   "metadata": {},
   "source": [
    "###  Referencias"
   ]
  },
  {
   "cell_type": "markdown",
   "metadata": {},
   "source": [
    " * [Reproducible Research in Computational Science](http://dx.doi.org/10.1126/science.1213847), Roger D. Peng, Science 334, 1226 (2011).\n",
    "\n",
    " * [Shining Light into Black Boxes](http://dx.doi.org/10.1126/science.1218263), A. Morin et al., Science 336, 159-160 (2012).\n",
    " \n",
    " * [The case for open computer programs](http://dx.doi.org/doi:10.1038/nature10836), D.C. Ince, Nature 482, 485 (2012)."
   ]
  },
  {
   "cell_type": "markdown",
   "metadata": {},
   "source": [
    "## Requisitos para la Computación Científica"
   ]
  },
  {
   "cell_type": "markdown",
   "metadata": {},
   "source": [
    "**Replicación** y **reproducibilidad** son dos pilares del método científico. Respecto al trabajo numérico, el satisfacer estos requerimientos implica las siguientes consideraciones prácticas:\n",
    "\n",
    "* **Replicación**: Un(a) autor(a) de un artículo científico que involucra cálculos numéricos debería ser capaz de reproducir los resultados. \n",
    "\n",
    "* **Reproducibilidad**: Otr@s científic@s deberían ser capaces de realizar las mismas simulaciones numéricas y obtener los mismos resultados, dada la información acerca de los métodos usados en una publicación.\n",
    "\n",
    "\n",
    "Para alcanzar estos objetivos, necesitamos:\n",
    "\n",
    "* Mantener y documentar *exactamente* qué código fuente y qué versión fue usada para producir los datos y figuras en artículos publicados.\n",
    "\n",
    "* Registrar información sobre qué versión de software externos ha sido usada. Mantener acceso al entorno que fue usado.\n",
    "\n",
    "* Asegurarse que los códigos antiguos son respaldados y mantenidos para futura referencia. \n",
    "\n",
    "* Estar preparado para suministrar información adicional sobre los métodos usados, y tal vez adicionalmente los códigos de simulación, a un lector interesado que lo solicite (incluso años después que el artículo fue publicado!).\n",
    "\n",
    "* Idealmente, los códigos deberían ser publicados en la red, para facilitar que otr@s científic@s interesad@s en el código puedan tener acceso a él."
   ]
  },
  {
   "cell_type": "markdown",
   "metadata": {},
   "source": [
    "### Herramientas para manejar código fuente"
   ]
  },
  {
   "cell_type": "markdown",
   "metadata": {},
   "source": [
    "Asegurar la replicabilidad y la reproducibilidad de simulaciones científicas es un *problema complicado*, pero existen buenas herramientas que ayudan en esta tarea:\n",
    "\n",
    "* Sistemas de Control de Revisión (Revision Control System, RCS). \n",
    "    * Algunas buenas opciones son:\n",
    "        * git - http://git-scm.com.\n",
    "        * mercurial - http://mercurial.selenic.com. También conocido como `hg`.\n",
    "        * subversion - http://subversion.apache.org. También conocido como `svn`.\n",
    "\n",
    "* Repositorios Online para código fuente. Disponibles tanto como repositorios públicos como privados. \n",
    "    * Algunas buenas alternativas son:\n",
    "        * Github - http://www.github.com.\n",
    "        * Bitbucket - http://www.bitbucket.com.\n",
    "        * Repositorios privados alojados en servidores de la Universidad."
   ]
  },
  {
   "cell_type": "markdown",
   "metadata": {},
   "source": [
    "#### Notas"
   ]
  },
  {
   "cell_type": "markdown",
   "metadata": {},
   "source": [
    "Los repositorios son además excelentes para controlar versiones de manuscritos, figuras, archivos de tesis, archivos de datos, bitácoras de laboratorio, etc. Básicamente para todo contenido digital que deba ser preservado y que es frecuentemente actualizado. Nuevamente, existen tanto repositorios públicos como privados. ¡Estas herramientas constituyen además muy buenas herramientas de colaboración!"
   ]
  },
  {
   "cell_type": "markdown",
   "metadata": {},
   "source": [
    "# El Lenguaje de programación Python"
   ]
  },
  {
   "cell_type": "markdown",
   "metadata": {},
   "source": [
    "## ¿Qué es Python?"
   ]
  },
  {
   "cell_type": "markdown",
   "metadata": {},
   "source": [
    "[Python](http://www.python.org/) es un lenguaje de programación moderno, _de propósito general_, _orientado al objeto_ y de _alto nivel_. Fue creado por [Guido van Rossum](http://es.wikipedia.org/wiki/Guido_van_Rossum), conocido como el BDFL (\"Benevolent Dictator for Life\", es decir \"Dictador Benevolente Vitalicio\" del proyecto Python). La primera versión (0.9.0) de Python fue lanzada en 1991, y la versión 1.0 en 1994.\n",
    "\n",
    "<img src=\"http://upload.wikimedia.org/wikipedia/commons/thumb/6/66/Guido_van_Rossum_OSCON_2006.jpg/400px-Guido_van_Rossum_OSCON_2006.jpg\" width=\"150\">\n",
    "\n",
    "**Algunos de los principios bajo los que está concebido el lenguaje (Tim Peters, \"El Zen de Python\") son:**\n",
    "\n",
    "* Bello es mejor que feo.\n",
    "* Explícito es mejor que implícito.\n",
    "* Simple es mejor que complejo.\n",
    "* Complejo es mejor que complicado.\n",
    "* La legibilidad cuenta.\n",
    "* Los casos especiales no son tan especiales como para quebrantar las reglas.\n",
    "\n",
    "**Características generales de Python:**\n",
    "\n",
    "* Lenguaje **fácil de aprender**.\n",
    "* Lenguaje **versátil** en su utilización.\n",
    "* **Lenguaje limpio y simple:** Código fácil de leer e intuitivo, sintaxis minimalista y fácil de aprender. Su mantención escala bien con el tamaño de los proyectos.\n",
    "* Incorpora una colección de **herramienta básicas** para el tratamiento y visualización de datos.\n",
    "* Suministra un \"entorno\" **unificado** e **interactivo**.\n",
    "* Requiere un tiempo de desarrollo **reducido** y un tiempo de ejecución **razonable**.\n",
    "\n",
    "**Detalles técnicos:**\n",
    "\n",
    "* **Tipado dinámico:** No se necesita definir el tipo de las variables, argumentos de funciones, ni tipos de retorno.\n",
    "* **Manejo de memoria automático:** No se necesita reservar explícitamente memoria para las variables y los arreglos de datos. Sin bugs de fuga de memoria. \n",
    "* **Interpretado:** No se requiere compilar el código. El intérprete Python lee y ejecuta el código python directamente.\n",
    "\n",
    "**Ventajas de Python:**\n",
    "\n",
    "* La principal ventaja es la facilidad de programar, minimizando el tiempo requerido para desarrollar, depurar y mantener el código.\n",
    "* Lenguaje bien diseñado que fomenta muchas buenas prácticas de programación:\n",
    " * Programación modular y orientada al objeto, buen sistema para empaquetar y reusar código. Esto a menudo resulta en un código más transparente, mantenible, y libre de bugs.\n",
    " * Documentación estréchamente integrada al código.\n",
    "* Un gran librería estandar, y una gran colección de paquetes externos.\n",
    "\n",
    "**Desventajas de Python:**\n",
    "\n",
    "* Como Python es un lenguaje interpretado y de tipado dinámico, la ejecución de código python puede ser lenta comparada con lenguajes compilados y de tipado estático, tales como C y Fortran. \n",
    "* Algo descentralizado, con diferentes ambientes, paquetes y documentación diseminada en distintos lugares. Esto puede hacer difícil el comienzo."
   ]
  },
  {
   "cell_type": "markdown",
   "metadata": {},
   "source": [
    "### Python versus Matlab"
   ]
  },
  {
   "cell_type": "markdown",
   "metadata": {},
   "source": [
    "**Ventajas de Matlab**:\n",
    "\n",
    "* Múltiples bibliotecas con numerosos algoritmos para la resolución de diferentes problemas.\n",
    "* Una rápida ejecución debido a que las bibliotecas están, normalmente, escritas en un lenguaje compilado.\n",
    "* Un entorno de desarrollo *agradable* y funcional.\n",
    "* Soporte comercial disponible.\n",
    "\n",
    "**Desventajas de Matlab**:\n",
    "\n",
    "* El lenguaje de base puede ser *restrictivo* para usuarios avanzados. No hay acceso al código fuente.\n",
    "* \"Show me the money...\""
   ]
  },
  {
   "cell_type": "markdown",
   "metadata": {},
   "source": [
    "### Python versus lenguajes compilados (Fortran, C, C++)"
   ]
  },
  {
   "cell_type": "markdown",
   "metadata": {},
   "source": [
    "**Ventajas de Fortran, C, C++**:\n",
    "\n",
    "* Rápidos.\n",
    "* Compiladores **super** optimizados.\n",
    "* Bibliotecas científicas **super** optimizadas (desde antaño).\n",
    "\n",
    "**Desventajas de Fortan, C, C++**:\n",
    "\n",
    "* No hay interactividad durante el desarrollo (necesariamente, hay un paso de compilación).\n",
    "* Sintaxis compleja.\n",
    "* Manejo manual de la memoria."
   ]
  },
  {
   "cell_type": "markdown",
   "metadata": {},
   "source": [
    "## ¿Qué hace a Python adecuado para la Computación Científica?"
   ]
  },
  {
   "cell_type": "markdown",
   "metadata": {},
   "source": [
    "<!-- offline version <img src=\"files/images/optimizing-what.png\" width=\"300\"> -->\n",
    "<img src=\"https://raw.github.com/gfrubi/clases-python-cientifico/master/images/optimizing-what.png\" width=\"600\">\n",
    "\n",
    "* Python tiene una posición fuerte en la computación científica: \n",
    "    * Gran comunidad de usuarios. Es fácil encontrar ayuda y documentación.\n",
    "\n",
    "* Extenso ecosistema de librerías científicas y entornos\n",
    "    * [Numpy](http://numpy.scipy.org): Python Numérico.\n",
    "    * [Scipy](http://www.scipy.org):  Python Científico.\n",
    "    * [Matplotlib](http://www.matplotlib.org): Librerías Gráficas.\n",
    "\n",
    "* Gran desempeño debido a la gran integración con códigos altamente testeados y optimizados escritos en C y Fortran:\n",
    "    * blas, atlas blas, lapack, arpack, Intel MKL, ...\n",
    "\n",
    "* Buen soporte para:\n",
    "    * Procesamiento en paralelo.\n",
    "    * Comunicación entre procesos (Interprocess communication, MPI).\n",
    "    * Cálculo con GPU (OpenCL y CUDA).\n",
    "* Disponible y apropiado para uso con cluster de cálculo de alto desempeño (high-performance computing clusters). \n",
    "* ¡Sin costos de licencia y de código abierto!.\n",
    "* Creciente y pujante comunidad apoyando el desarrollo y evolución del lenguaje.\n",
    "\n",
    "**Desventajas**:\n",
    "\n",
    "* Un entorno de desarrollo menos *agradable* comparado con Matlab (**totalmente discutible...**. **Esto está cambiando rápidamente gracias a los [Jupyter Notebooks](http://ipython.org/notebook.html)**). \n",
    "* Algunos algoritmos especializados todavía no se han desarrollado (**pero no falta mucho...**).\n",
    "* Relativamente lento... (**varias soluciones disponible y en desarrollo**)."
   ]
  },
  {
   "cell_type": "markdown",
   "metadata": {},
   "source": [
    "### La estructura de datos (pila) de Python Científico"
   ]
  },
  {
   "cell_type": "markdown",
   "metadata": {},
   "source": [
    "<!-- <img src=\"files/images/scientific-python-stack.png\" width=\"300\"> -->\n",
    "<img src=\"https://raw.github.com/gfrubi/clases-python-cientifico/master/images/scientific-python-stack.png\" width=\"300\">\n"
   ]
  },
  {
   "cell_type": "markdown",
   "metadata": {},
   "source": [
    "## Entornos Python"
   ]
  },
  {
   "cell_type": "markdown",
   "metadata": {},
   "source": [
    "Python no es sólo un lenguaje de programación, sino que también la implementación estándar del *intérprete* (técnicamente llamado [CPython](http://es.wikipedia.org/wiki/CPython)) que realmente ejecuta el código Python en un computador.\n",
    "\n",
    "Existen también muchos entornos distintos a través de los cuales se puede usar el intérprete Python. Cada entorno tiene distintas ventajas y es adecuado para diferentes rutinas de trabajo. Una fortaleza de Python es que es versátil y puede ser usado de formas complementarias, pero esto puede ser confuso para principiantes, por lo que comenzaremos con un breve vistazo de los entornos Python útiles en computación científica."
   ]
  },
  {
   "cell_type": "markdown",
   "metadata": {},
   "source": [
    "### Intérprete Python"
   ]
  },
  {
   "cell_type": "markdown",
   "metadata": {},
   "source": [
    "La forma estándar de usar el lenguaje de programación Python es usar el intérprete Python para ejecutar código Python. El intérprete Python es un programa que lee y ejecuta el código Python en archivos, que son pasados como argumentos. En la consola de comandos, el comando ``python`` se usa para invocar al intérprete Python.\n",
    "\n",
    "Por ejemplo, para ejecutar un archivo ``mi-programa.py``, que contiene código Python, desde la consola de comandos, use:\n",
    "\n",
    "    $ python mi-programa.py\n",
    "\n",
    "Podemos también iniciar el intérprete simplemente escribiendo ``python`` en la consola, y escribiendo interactivamente código en el intérprete. \n",
    "\n",
    "<!-- <img src=\"files/images/python-screenshot.jpg\" width=\"600\"> -->\n",
    "<img src=\"https://raw.github.com/gfrubi/clases-python-cientifico/master/images/python-screenshot.png\" width=\"600\">\n",
    "\n",
    "\n",
    "Ésta es la forma en que a menudo deseamos trabajar desarrollando aplicaciones científicas, o cuando se realizan pequeños cálculos. Sin embargo, el intérprete Python estándar no es muy conveniente para este tipo de trabajo, debido a múltiples limitaciones."
   ]
  },
  {
   "cell_type": "markdown",
   "metadata": {},
   "source": [
    "### IPython"
   ]
  },
  {
   "cell_type": "markdown",
   "metadata": {},
   "source": [
    "[IPython](http://ipython.org/) es una shell (intérprete de comandos) interactiva que resuelve muchas de las limitaciones del intérprete de Python estándar, y es una poderosa heramienta para uso científico de Python. IPython suministra una prompt interactiva, y mucho más amigable al usuario, del intérprete Python. IPython fue creado por [Fernando Perez](http://fperez.org/) en 2001.\n",
    "\n",
    "<img src=\"http://fperez.org/_static/fperez_headshot_lg.jpg\" width=\"150\">\n",
    "\n",
    "Una instancia de IPython corriendo en una consola luce así:\n",
    "\n",
    "<!-- <img src=\"files/images/ipython-screenshot.png\" width=\"600\"> -->\n",
    "<img src=\"https://raw.github.com/gfrubi/clases-python-cientifico/master/images/ipython-screenshot.png\" width=\"600\">\n",
    "\n",
    "Algunas de las características más útiles de IPython son:\n",
    "\n",
    "* Historial de comandos, que puede ser navegado con las teclas de flechas hacia arriba y abajo.\n",
    "* Autocompletación de tabs.\n",
    "* Edición de código en línea.\n",
    "* Introspección de objetos, y extracción automática de cadenas de documentación a partir de objetos Python como clases y funciones.\n",
    "* Buena interacción con la línea de comandos del sistema operativo.\n",
    "* Soporte de múltiples procesos paralelos back-end, que pueden ejecutarse en cluster computacionales o en servicios en la nube como Amazon EE2."
   ]
  },
  {
   "cell_type": "markdown",
   "metadata": {},
   "source": [
    "## Spyder"
   ]
  },
  {
   "cell_type": "markdown",
   "metadata": {},
   "source": [
    "[Spyder](http://code.google.com/p/spyderlib/) es un IDE (entorno de desarrollo interactivo, por su sigla en inglés) similar a MATLAB para computación científica con Python. Tiene muchas de las ventajas de un IDE, como por ejemplo que todo, desde la edición del código, su ejecución y depuración, es realizado en un mismo entorno, y el trabajo de diferentes cálculos puede ser organizado como proyectos en el IDE.\n",
    "\n",
    "<!-- <img src=\"files/images/spyder-screenshot.jpg\" width=\"800\"> -->\n",
    "<img src=\"https://raw.github.com/gfrubi/clases-python-cientifico/master/images/spyder-screenshot.jpg\" width=\"800\">\n",
    "\n",
    "Algunas ventajas de Spyder:\n",
    "\n",
    "* Poderoso editor de código, con coloreado de sintaxis, introspección dinámica de código, e integración con el depurador de Python.\n",
    "* Explorador de variables, prompt de comando IPython.\n",
    "* Documentación y ayuda integrada."
   ]
  },
  {
   "cell_type": "markdown",
   "metadata": {},
   "source": [
    "## Jupyter (IPython) notebook"
   ]
  },
  {
   "cell_type": "markdown",
   "metadata": {},
   "source": [
    "[Jupyter notebook](http://ipython.org/notebook.html) es un entorno \"de cuaderno'' basado en HTML para Python, similar a Mathematica o Maple. Originalmente estaba basado en la shell IPython, pero suministrando un ambiente basado en celdas con gran interactividad, donde los cálculos pueden ser organizados y documentados en una forma estructurada.\n",
    "\n",
    "<!-- <img src=\"files/images/ipython-notebook-screenshot.png\" width=\"800\"> -->\n",
    "<img src=\"https://raw.github.com/gfrubi/clases-python-cientifico/master/images/ipython-notebook-screenshot.png\" width=\"800\">\n",
    "\n",
    "Aunque se usa el navegador web con interfase gráfica, los notebooks IPython/Jupyter usualmente se ejecutan localmente, en el mismo computador que ejecuta el navegador. Para iniciar una nueva sesión de IPython notebook, ejecute el siguiente comando:\n",
    "\n",
    "    $ jupyter notebook\n",
    "\n",
    "desde una carpeta en que que desea almacenar los cuadernos. Esto abrirá una nueva ventana del navegador (o una nueva pestaña en una ventana existente) con una página índice donde se muestran los cuadernos existentes y desde donde nuevos cuadernos pueden ser creados.\n",
    "\n",
    "En el año 2014, los desarrolladores del Ipython Notebook decidieron crear el proyecto [Jupyter](http://jupyter.org/) que independiza la interfase del notebook del lenguaje de programación particular que se use (originalmente, Python). Esto permite usar las funcionalidades de interactividad de los notebooks con distintos lenguajes."
   ]
  },
  {
   "cell_type": "markdown",
   "metadata": {},
   "source": [
    "## Versiones de Python"
   ]
  },
  {
   "cell_type": "markdown",
   "metadata": {},
   "source": [
    "Existen actualmente dos versiones de Python: Python 2 y Python 3. Python 3 eventualmente reemplazará a Python 2, pero no es 100% compatible con Python 2. Mucho del código Python existente ha sido escrito para Python 2, y aún es la versión más popular. En estas clases cualquiera de las dos versiones puede usarse, pero es probablemente más simple quedarse con Python 2 por ahora, ya que está más comúnmente disponible en paquetes precompilados e instaladores binarios.\n",
    "\n",
    "Para ver qué versión de Python tiene, ejecute\n",
    "    \n",
    "    $ python --version\n",
    "    Python 2.7.12\n",
    "    \n",
    "    $ python3 --version\n",
    "    Python 3.4.0\n",
    "\n",
    "Es posible instalar varias versiones de Python en paralelo."
   ]
  },
  {
   "cell_type": "markdown",
   "metadata": {},
   "source": [
    "## Instalación"
   ]
  },
  {
   "cell_type": "markdown",
   "metadata": {},
   "source": [
    "Existen diversas formas de instalar Python y sus distintos módulos. Una forma segura y simple de instalar y mantener estos paquetes es instalando una *distribución de Python*. \n",
    "\n",
    "Una distribución muy popular es [Anaconda](https://www.continuum.io/anaconda-overview), desarrollada y mantenida por la empresa [Continuum Analytics](https://www.continuum.io/). Puede descargar un archivo (~400 MB) con todos los paquetes requeridos para plataformas Linux, OSX y Windows desde https://www.continuum.io/downloads, y realizar la instalación local siguiendo las instrucciones indicadas en el sitio."
   ]
  },
  {
   "cell_type": "markdown",
   "metadata": {},
   "source": [
    "## Presente y Futuro"
   ]
  },
  {
   "cell_type": "markdown",
   "metadata": {},
   "source": [
    "* Python se ha convertido en un lenguaje muy popular para uso científico (salvo en ciertos *nichos*) debido a la multiplicidad de herramientas que brinda, a la potencialidad en el perfeccionamiento de las mismas y la continua generación de nuevos módulos cada vez más especializados.\n",
    "\n",
    "* Existen problemas que resolver y algunas cuestiones técnicas que desarrollar (no todo es color de rosa...).\n",
    "\n",
    "* Sin embargo, las perspectivas son muy buenas, lo cual se ve reflejado no sólo en la proliferación de científicos que usan Python en su trabajo diario, sino también en la organización de conferencias específicas a nivel internacional ([SciPy](http://conference.scipy.org), [EuroSciPy](https://www.euroscipy.org/), [SciPyCon Argentina](http://scipycon.com.ar/), etc.) y en el aumento del número de publicaciones con código escrito en Python.\n",
    "\n",
    "* Muchas empresas e industrias se valen de estas mismas herramientas para el desarrollo o análisis de sus procesos productivos."
   ]
  },
  {
   "cell_type": "markdown",
   "metadata": {},
   "source": [
    "## Material adicional\n",
    "\n",
    "En Inglés:\n",
    "\n",
    " * [Python](http://www.python.org>). El sitio oficial de Python.\n",
    " * [Think Python](http://www.greenteapress.com/thinkpython/). Un libro gratuito sobre Python.\n",
    " * [Pyvideo](http://pyvideo.org/). Colección de videos sobre Python (tutoriales, conferencias, etc.).\n",
    "\n",
    "En Español:\n",
    "\n",
    " * [Tutorial de Python](http://docs.python.org.ar/tutorial/index.html). Traducción del tutorial oficial de Python, por Python Argentina.\n",
    " * [Python para Todos](http://mundogeek.net/tutorial-python/): Libro gratuito sobre Python, escrito por Raúl González Duque.\n",
    " * [Algoritmos y Programación 1](https://sites.google.com/site/fiuba7540rw/home/apunte_7540.pdf?attredirects=0): Apuntes de la asignatura \"Algoritmos y Programación 1\" de la Facultad de Ingeniería de la Universidad de Buenos Aires.\n",
    " * [Introducción a Python para científicos e ingenieros (2ª ed.)](https://www.youtube.com/playlist?list=PLoGFizEtm_6jCjWqRU8A-dQYQuo5q5KNc) Curso de introducción al lenguaje de programación Python enfocado principalmente a científicos, ingenieros o cualquier persona interesada en análisis y visualización de datos. Universidad de Alicante, impartido por Juan Luis Cano. Ver también [esta página](http://cacheme.org/curso-online-python-cientifico-ingenieros/) con información del curso.\n",
    " * [Python Argentina](http://python.org.ar/): Comunidad de Python en Argentina.\n",
    " * [Pybonacci](http://pybonacci.org/): Blog en español dedicado al uso científico de Python."
   ]
  }
 ],
 "metadata": {
  "anaconda-cloud": {},
  "kernelspec": {
   "display_name": "Python [default]",
   "language": "python",
   "name": "python2"
  },
  "language_info": {
   "codemirror_mode": {
    "name": "ipython",
    "version": 2
   },
   "file_extension": ".py",
   "mimetype": "text/x-python",
   "name": "python",
   "nbconvert_exporter": "python",
   "pygments_lexer": "ipython2",
   "version": "2.7.12"
  }
 },
 "nbformat": 4,
 "nbformat_minor": 0
}
