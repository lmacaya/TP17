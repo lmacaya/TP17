{
 "cells": [
  {
   "cell_type": "markdown",
   "metadata": {},
   "source": [
    "1.En esta práctica usted ejercitará y explorará algunas características del poderoso módulo Numpy.\n",
    "Para ello, cargue el módulo usando:"
   ]
  },
  {
   "cell_type": "code",
   "execution_count": 2,
   "metadata": {
    "collapsed": true
   },
   "outputs": [],
   "source": [
    "import numpy as np"
   ]
  },
  {
   "cell_type": "markdown",
   "metadata": {},
   "source": [
    "2.En Numpy existe una función llamada arange que es muy similar a la ya conocida función\n",
    "range. La diferencia es que range genera una lista mientras que arange genera un arreglo\n",
    "de Numpy. Para comprobar esto, ejecute:"
   ]
  },
  {
   "cell_type": "code",
   "execution_count": 9,
   "metadata": {
    "collapsed": false
   },
   "outputs": [
    {
     "name": "stdout",
     "output_type": "stream",
     "text": [
      "([0, 1, 2, 3, 4, 5, 6, 7, 8, 9], <type 'list'>)\n",
      "(array([0, 1, 2, 3, 4, 5, 6, 7, 8, 9]), <type 'numpy.ndarray'>)\n"
     ]
    }
   ],
   "source": [
    "x=range(10)\n",
    "y=np.arange(10)\n",
    "print(x,type(x))\n",
    "print(y,type(y))"
   ]
  },
  {
   "cell_type": "markdown",
   "metadata": {},
   "source": [
    "En otras palabras, arange(10) es equivalente a array(range(10)).\n",
    "\n",
    "3.Usando arreglos de Numpy es posible realizar muchos cálculos en forma rápida y eficiente,\n",
    "sin necesidad de recurrir a ciclos (for o while). Por ejemplo, puede calcular la misma suma\n",
    "calculada en el punto 2 de la guía 03 usando"
   ]
  },
  {
   "cell_type": "code",
   "execution_count": 17,
   "metadata": {
    "collapsed": false
   },
   "outputs": [
    {
     "name": "stdout",
     "output_type": "stream",
     "text": [
      "[  0   1   2   3   4   5   6   7   8   9  10  11  12  13  14  15  16  17\n",
      "  18  19  20  21  22  23  24  25  26  27  28  29  30  31  32  33  34  35\n",
      "  36  37  38  39  40  41  42  43  44  45  46  47  48  49  50  51  52  53\n",
      "  54  55  56  57  58  59  60  61  62  63  64  65  66  67  68  69  70  71\n",
      "  72  73  74  75  76  77  78  79  80  81  82  83  84  85  86  87  88  89\n",
      "  90  91  92  93  94  95  96  97  98  99 100]\n",
      "(2.0, 2.0)\n"
     ]
    }
   ],
   "source": [
    "x = np.arange(101)\n",
    "print(x)\n",
    "suma = sum(1. / 2. ** x)\n",
    "suma2 = sum(2. ** - x)\n",
    "print(suma, suma2)"
   ]
  },
  {
   "cell_type": "markdown",
   "metadata": {},
   "source": [
    "4.Adapte la idea del cálculo en el punto anterior para implementar un cálculo alternativo para el\n",
    "factorial de un número n (entero positivo), pero esta vez usando un arreglo de Numpy y la función\n",
    "prod() que calcula el producto de cada componente de un arreglo de Numpy (similarmente a\n",
    "como sum() calcula la suma)."
   ]
  },
  {
   "cell_type": "code",
   "execution_count": 51,
   "metadata": {
    "collapsed": false
   },
   "outputs": [
    {
     "data": {
      "text/plain": [
       "2.43290200817664e+18"
      ]
     },
     "execution_count": 51,
     "metadata": {},
     "output_type": "execute_result"
    }
   ],
   "source": [
    "def factorial(n):\n",
    "    if n > 0:\n",
    "        x = np.linspace(1, n, n)\n",
    "        expr = np.prod(x)\n",
    "        return expr\n",
    "factorial(20)"
   ]
  },
  {
   "cell_type": "markdown",
   "metadata": {},
   "source": [
    "5.Verifique que, a diferencia de su pariente range(), la función arange() también funciona con\n",
    "pasos decimales, por ejemplo"
   ]
  },
  {
   "cell_type": "code",
   "execution_count": 55,
   "metadata": {
    "collapsed": false
   },
   "outputs": [
    {
     "name": "stdout",
     "output_type": "stream",
     "text": [
      "[ 1.   1.3  1.6  1.9  2.2  2.5  2.8  3.1  3.4  3.7  4.   4.3  4.6  4.9  5.2\n",
      "  5.5  5.8  6.1  6.4  6.7  7.   7.3  7.6  7.9  8.2  8.5  8.8  9.1  9.4  9.7]\n"
     ]
    }
   ],
   "source": [
    "print(arange(1,10,0.3))"
   ]
  },
  {
   "cell_type": "markdown",
   "metadata": {},
   "source": [
    "6.Otra función muy útil para crear arreglos de valores en un intervalo es linspace(), que tiene\n",
    "el formato linspace(desde,hasta,numero de elementos). Por ejemplo, ejecute los siguientes\n",
    "comandos:"
   ]
  },
  {
   "cell_type": "code",
   "execution_count": 5,
   "metadata": {
    "collapsed": false
   },
   "outputs": [
    {
     "name": "stdout",
     "output_type": "stream",
     "text": [
      "(array([  1.        ,   1.47368421,   1.94736842,   2.42105263,\n",
      "         2.89473684,   3.36842105,   3.84210526,   4.31578947,\n",
      "         4.78947368,   5.26315789,   5.73684211,   6.21052632,\n",
      "         6.68421053,   7.15789474,   7.63157895,   8.10526316,\n",
      "         8.57894737,   9.05263158,   9.52631579,  10.        ]), 20)\n",
      "(array([-3.14159265, -3.07812614, -3.01465962, -2.9511931 , -2.88772658,\n",
      "       -2.82426006, -2.76079354, -2.69732703, -2.63386051, -2.57039399,\n",
      "       -2.50692747, -2.44346095, -2.37999443, -2.31652792, -2.2530614 ,\n",
      "       -2.18959488, -2.12612836, -2.06266184, -1.99919533, -1.93572881,\n",
      "       -1.87226229, -1.80879577, -1.74532925, -1.68186273, -1.61839622,\n",
      "       -1.5549297 , -1.49146318, -1.42799666, -1.36453014, -1.30106362,\n",
      "       -1.23759711, -1.17413059, -1.11066407, -1.04719755, -0.98373103,\n",
      "       -0.92026451, -0.856798  , -0.79333148, -0.72986496, -0.66639844,\n",
      "       -0.60293192, -0.53946541, -0.47599889, -0.41253237, -0.34906585,\n",
      "       -0.28559933, -0.22213281, -0.1586663 , -0.09519978, -0.03173326,\n",
      "        0.03173326,  0.09519978,  0.1586663 ,  0.22213281,  0.28559933,\n",
      "        0.34906585,  0.41253237,  0.47599889,  0.53946541,  0.60293192,\n",
      "        0.66639844,  0.72986496,  0.79333148,  0.856798  ,  0.92026451,\n",
      "        0.98373103,  1.04719755,  1.11066407,  1.17413059,  1.23759711,\n",
      "        1.30106362,  1.36453014,  1.42799666,  1.49146318,  1.5549297 ,\n",
      "        1.61839622,  1.68186273,  1.74532925,  1.80879577,  1.87226229,\n",
      "        1.93572881,  1.99919533,  2.06266184,  2.12612836,  2.18959488,\n",
      "        2.2530614 ,  2.31652792,  2.37999443,  2.44346095,  2.50692747,\n",
      "        2.57039399,  2.63386051,  2.69732703,  2.76079354,  2.82426006,\n",
      "        2.88772658,  2.9511931 ,  3.01465962,  3.07812614,  3.14159265]), 100)\n"
     ]
    }
   ],
   "source": [
    "x=np.linspace(1,10,20)\n",
    "y=np.linspace(-np.pi,np.pi,100)\n",
    "print(x,np.size(x))\n",
    "print(y,np.size(y))"
   ]
  },
  {
   "cell_type": "markdown",
   "metadata": {},
   "source": [
    "7.Otra propiedad importante de los arreglos es que sus elementos pueden usarse para iterar en\n",
    "un ciclo for. Para ver esto, ejecute:"
   ]
  },
  {
   "cell_type": "code",
   "execution_count": 9,
   "metadata": {
    "collapsed": false
   },
   "outputs": [
    {
     "name": "stdout",
     "output_type": "stream",
     "text": [
      "(array([ 0,  1,  2,  3,  4,  5,  6,  7,  8,  9, 10]), 11)\n",
      "(array([  0,   1,   4,   9,  16,  25,  36,  49,  64,  81, 100]), 11)\n",
      "la componente 0 de y es igual a 0\n",
      "la componente 1 de y es igual a 1\n",
      "la componente 2 de y es igual a 4\n",
      "la componente 3 de y es igual a 9\n",
      "la componente 4 de y es igual a 16\n",
      "la componente 5 de y es igual a 25\n",
      "la componente 6 de y es igual a 36\n",
      "la componente 7 de y es igual a 49\n",
      "la componente 8 de y es igual a 64\n",
      "la componente 9 de y es igual a 81\n",
      "la componente 10 de y es igual a 100\n"
     ]
    }
   ],
   "source": [
    "x = np.arange(11)\n",
    "print(x, len(x))\n",
    "\n",
    "y = x ** 2\n",
    "print(y, len(y))\n",
    "\n",
    "for i in x:\n",
    "    print (\"la componente \"+str(i)+\" de y es igual a \"+str(y[i]))"
   ]
  },
  {
   "cell_type": "markdown",
   "metadata": {},
   "source": [
    "8.Considere el archivo de datos datos.txt. Numpy contiene la función genfromtxt, que lee datos\n",
    "desde un archivo y los asigna a un arreglo, de la dimensión apropiada. Ejecute (en la misma\n",
    "carpeta donde está el archivo datos.txt) los siguientes comandos:"
   ]
  },
  {
   "cell_type": "code",
   "execution_count": 2,
   "metadata": {
    "collapsed": false
   },
   "outputs": [
    {
     "name": "stdout",
     "output_type": "stream",
     "text": [
      "[[ 0.1    0.738]\n",
      " [ 0.25   0.826]\n",
      " [ 0.41   0.981]\n",
      " [ 0.56   0.974]\n",
      " [ 0.71   0.915]\n",
      " [ 0.86   0.897]\n",
      " [ 1.02   0.739]\n",
      " [ 1.17   0.785]\n",
      " [ 1.32   0.635]\n",
      " [ 1.47   0.52 ]\n",
      " [ 1.63   0.49 ]\n",
      " [ 1.78   0.428]\n",
      " [ 1.93   0.497]\n",
      " [ 2.08   0.355]\n",
      " [ 2.24   0.359]\n",
      " [ 2.39   0.328]\n",
      " [ 2.54   0.44 ]\n",
      " [ 2.69   0.441]\n",
      " [ 2.85   0.433]\n",
      " [ 3.     0.419]]\n"
     ]
    }
   ],
   "source": [
    "import numpy as np\n",
    "\n",
    "d = np.genfromtxt(\"datos.txt\")\n",
    "x = d[:,0]\n",
    "y = d[:,1]\n",
    "\n",
    "print(d)"
   ]
  },
  {
   "cell_type": "markdown",
   "metadata": {},
   "source": [
    "La primera línea carga los datos al arreglo de Las últimas dos líneas asignan la primera columna\n",
    "de datos al arreglo x y la segunda columna a y. Usando las funciones shape y size de Numpy,\n",
    "verifique la forma y tamaño de los arreglos d, x e y. Asegúrese de entender que es lo que realiza\n",
    "exactamente cada comando anterior."
   ]
  },
  {
   "cell_type": "code",
   "execution_count": 4,
   "metadata": {
    "collapsed": false
   },
   "outputs": [
    {
     "name": "stdout",
     "output_type": "stream",
     "text": [
      "((20L, 2L), (20L,), (20L,))\n",
      "(40, 20, 20)\n"
     ]
    }
   ],
   "source": [
    "print(d.shape, x.shape, y.shape)\n",
    "print(d.size, x.size, y.size)"
   ]
  },
  {
   "cell_type": "markdown",
   "metadata": {},
   "source": [
    "9.Usando lo anterior, calcule e imprima:\n",
    "(a) El promedio de los valores de la primera columna. (puede usar la función sum y len para\n",
    "calcular el promedio, o bien la función mean de Numpy).\n",
    "(b) El promedio de los cuadrados de los valores de la segunda columna.\n",
    "(c) La suma de los productos de cada elemento de la primera con la segunda columna "
   ]
  },
  {
   "cell_type": "code",
   "execution_count": 5,
   "metadata": {
    "collapsed": false
   },
   "outputs": [
    {
     "name": "stdout",
     "output_type": "stream",
     "text": [
      "1.55\n",
      "0.4199838\n",
      "15.56502\n"
     ]
    }
   ],
   "source": [
    "# promedio primera columna\n",
    "mean = np.mean(x)\n",
    "print(mean)\n",
    "\n",
    "# promedio de los cuadrados de segunda columna\n",
    "mean2 = np.mean(y**2)\n",
    "print(mean2)\n",
    "\n",
    "# suma de los productos de cada elemento de la primera con la segunda columna \n",
    "sum_x_y = np.sum(x*y)\n",
    "print(sum_x_y)"
   ]
  },
  {
   "cell_type": "markdown",
   "metadata": {},
   "source": [
    "10.Bonus Track (opcional): Los arreglos de Numpy también pueden contener componentes con\n",
    "valores booleanos (siempre que todos los componentes lo sean). Por ejemplo,"
   ]
  },
  {
   "cell_type": "code",
   "execution_count": 40,
   "metadata": {
    "collapsed": false
   },
   "outputs": [
    {
     "name": "stdout",
     "output_type": "stream",
     "text": [
      "[ 0  1  2  3  4  5  6  7  8  9 10]\n",
      "[False False False False False False  True  True  True  True  True]\n"
     ]
    }
   ],
   "source": [
    "x=np.arange(11)\n",
    "y=(x>5)\n",
    "print(x)\n",
    "print(y)"
   ]
  },
  {
   "cell_type": "markdown",
   "metadata": {},
   "source": [
    "muestra que y es un arreglo cuyas componentes son verdaderas o falsas dependiendo si la\n",
    "condición impuesta (x>5) se satisface en cada componente del arreglo x."
   ]
  },
  {
   "cell_type": "markdown",
   "metadata": {},
   "source": [
    "11.Bonus Track (opcional): Las funciones any() y all(), al ser aplicadas a un arreglo de\n",
    "booleanos indican si alguna o todas las componentes del arreglo son verdaderas, respectivamente.\n",
    "Usando el arreglo x definido en el punto anterior, entonces\n"
   ]
  },
  {
   "cell_type": "code",
   "execution_count": 44,
   "metadata": {
    "collapsed": false
   },
   "outputs": [
    {
     "data": {
      "text/plain": [
       "True"
      ]
     },
     "execution_count": 44,
     "metadata": {},
     "output_type": "execute_result"
    }
   ],
   "source": [
    "any(x>5)"
   ]
  },
  {
   "cell_type": "markdown",
   "metadata": {},
   "source": [
    "es verdadero porque sí existe una componente del arreglo x que es mayor que 5, en cambio"
   ]
  },
  {
   "cell_type": "code",
   "execution_count": 46,
   "metadata": {
    "collapsed": false
   },
   "outputs": [
    {
     "data": {
      "text/plain": [
       "False"
      ]
     },
     "execution_count": 46,
     "metadata": {},
     "output_type": "execute_result"
    }
   ],
   "source": [
    "any(x>10)"
   ]
  },
  {
   "cell_type": "markdown",
   "metadata": {},
   "source": [
    "es falso. Verifique en forma similar el comportamiento de all() (por ejemplo, viendo qué\n",
    "entregan los comandos all(x>5) y all(x>=0))."
   ]
  },
  {
   "cell_type": "code",
   "execution_count": 47,
   "metadata": {
    "collapsed": false
   },
   "outputs": [
    {
     "data": {
      "text/plain": [
       "False"
      ]
     },
     "execution_count": 47,
     "metadata": {},
     "output_type": "execute_result"
    }
   ],
   "source": [
    "all(x>5)"
   ]
  },
  {
   "cell_type": "code",
   "execution_count": 48,
   "metadata": {
    "collapsed": false
   },
   "outputs": [
    {
     "data": {
      "text/plain": [
       "True"
      ]
     },
     "execution_count": 48,
     "metadata": {},
     "output_type": "execute_result"
    }
   ],
   "source": [
    "all(x>=0)"
   ]
  }
 ],
 "metadata": {
  "anaconda-cloud": {},
  "kernelspec": {
   "display_name": "Python 2",
   "language": "python",
   "name": "python2"
  },
  "language_info": {
   "codemirror_mode": {
    "name": "ipython",
    "version": 2
   },
   "file_extension": ".py",
   "mimetype": "text/x-python",
   "name": "python",
   "nbconvert_exporter": "python",
   "pygments_lexer": "ipython2",
   "version": "2.7.10"
  }
 },
 "nbformat": 4,
 "nbformat_minor": 1
}
