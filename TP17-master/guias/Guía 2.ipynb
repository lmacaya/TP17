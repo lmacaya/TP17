{
 "cells": [
  {
   "cell_type": "markdown",
   "metadata": {},
   "source": [
    "1.Los caracteres individuales que forman una cadena alfanumérica (string) pueden ser accesados\n",
    "usando el número del índice correspondiente. En Python el valor de los índices siempre\n",
    "comienza en 0, luego 1, 2, etc. Para ilustrar esto, abra un intérprete Python (o IPython) y\n",
    "ejecute los siguientes comandos:"
   ]
  },
  {
   "cell_type": "code",
   "execution_count": 2,
   "metadata": {
    "collapsed": false
   },
   "outputs": [
    {
     "name": "stdout",
     "output_type": "stream",
     "text": [
      "H\n",
      "o\n",
      "l\n",
      "a\n"
     ]
    }
   ],
   "source": [
    "x=\"Hola estudiantes de primer semestre\"\n",
    "print(x[0])\n",
    "print(x[1])\n",
    "print(x[2])\n",
    "print(x[3])"
   ]
  },
  {
   "cell_type": "markdown",
   "metadata": {},
   "source": [
    "2.Como comprobó en la práctica anterior la función len() entrega el largo del string, es decir, el número de caracteres que contiene. Por lo tanto"
   ]
  },
  {
   "cell_type": "code",
   "execution_count": 7,
   "metadata": {
    "collapsed": false
   },
   "outputs": [
    {
     "name": "stdout",
     "output_type": "stream",
     "text": [
      "e\n"
     ]
    }
   ],
   "source": [
    "print(x[len(x)-1])"
   ]
  },
  {
   "cell_type": "markdown",
   "metadata": {},
   "source": [
    "Imprime el último caracter del string, cuyo índice es len(x)-1, debido que el índice del primer caracter es 0. El mismo resultado, puede ser conseguido usando\n"
   ]
  },
  {
   "cell_type": "code",
   "execution_count": 13,
   "metadata": {
    "collapsed": false
   },
   "outputs": [
    {
     "name": "stdout",
     "output_type": "stream",
     "text": [
      "e r\n"
     ]
    }
   ],
   "source": [
    "print(x[-1])"
   ]
  },
  {
   "cell_type": "markdown",
   "metadata": {},
   "source": [
    "Similarmente,"
   ]
  },
  {
   "cell_type": "code",
   "execution_count": null,
   "metadata": {
    "collapsed": true
   },
   "outputs": [],
   "source": [
    "(x[-2])"
   ]
  },
  {
   "cell_type": "markdown",
   "metadata": {},
   "source": [
    "imprime el penúltimo caracter, y así sucesivamente. Por ejemplo, ejecute"
   ]
  },
  {
   "cell_type": "code",
   "execution_count": 16,
   "metadata": {
    "collapsed": false
   },
   "outputs": [
    {
     "data": {
      "text/plain": [
       "True"
      ]
     },
     "execution_count": 16,
     "metadata": {},
     "output_type": "execute_result"
    }
   ],
   "source": [
    "x[-3]==x[len(x)-3]"
   ]
  },
  {
   "cell_type": "markdown",
   "metadata": {},
   "source": [
    "para comprobar que se refieren al mismo caracter."
   ]
  },
  {
   "cell_type": "markdown",
   "metadata": {},
   "source": [
    "3.También es posible acceder a algunos caracteres del string usando, en nuestro caso, x[inicio:fin:paso],\n",
    "donde inicio y fin los índices de los caracteres iniciales y finales y paso es un entero que\n",
    "define el paso. Si paso no es ingresado, se asume paso=1 . Por ejemplo, ejecute y verifique qué\n",
    "hacen los siguientes comandos\n"
   ]
  },
  {
   "cell_type": "code",
   "execution_count": 19,
   "metadata": {
    "collapsed": false
   },
   "outputs": [
    {
     "name": "stdout",
     "output_type": "stream",
     "text": [
      "Hola\n",
      "Hola\n",
      "estudiantes\n",
      "oaetdatsd \n"
     ]
    }
   ],
   "source": [
    "print(x[0:4:1])\n",
    "print(x[0:4])\n",
    "print(x[5:16])\n",
    "print(x[1:20:2])"
   ]
  },
  {
   "cell_type": "markdown",
   "metadata": {},
   "source": [
    "Note que el caracter correspondiente al índice fin NO es desplegado. En lenguaje matemático podríamos decir que x[inicio:fin] suministra los caracteres de x con índices en el intervalo\n",
    "desde inicio cerrado hasta fin abierto."
   ]
  },
  {
   "cell_type": "markdown",
   "metadata": {},
   "source": [
    "4.Además, si no se especifica inicio se asume el valor 0 (inicio del string) y si no se especifica\n",
    "fin se asume el valor len(x) (fin del string). Verifique esto ejecutando:"
   ]
  },
  {
   "cell_type": "code",
   "execution_count": 22,
   "metadata": {
    "collapsed": false
   },
   "outputs": [
    {
     "name": "stdout",
     "output_type": "stream",
     "text": [
      "Hola\n",
      "estudiantes de primer semestre\n",
      "estudiantes de primer semes\n",
      "ertsemes remirp ed setnaidutse aloH\n"
     ]
    }
   ],
   "source": [
    "print(x[:4])\n",
    "print(x[5:])\n",
    "print(x[5:-3])\n",
    "print(x[::-1])"
   ]
  },
  {
   "cell_type": "markdown",
   "metadata": {},
   "source": [
    "5.Bonus track:\n",
    "\n",
    "¿Qué hacen los siguientes comandos?, ¿Modifican el valor de x?"
   ]
  },
  {
   "cell_type": "code",
   "execution_count": 25,
   "metadata": {
    "collapsed": false
   },
   "outputs": [
    {
     "data": {
      "text/plain": [
       "'HOLA ESTUDIANTES DE PRIMER SEMESTRE'"
      ]
     },
     "execution_count": 25,
     "metadata": {},
     "output_type": "execute_result"
    }
   ],
   "source": [
    "x.upper() # mayúscula"
   ]
  },
  {
   "cell_type": "code",
   "execution_count": 31,
   "metadata": {
    "collapsed": false
   },
   "outputs": [
    {
     "data": {
      "text/plain": [
       "'Hole estudientes de primer semestre'"
      ]
     },
     "execution_count": 31,
     "metadata": {},
     "output_type": "execute_result"
    }
   ],
   "source": [
    "x.replace(\"a\",\"e\") # reemplaza la cadena a por la cadena e"
   ]
  },
  {
   "cell_type": "code",
   "execution_count": 27,
   "metadata": {
    "collapsed": false
   },
   "outputs": [
    {
     "data": {
      "text/plain": [
       "20"
      ]
     },
     "execution_count": 27,
     "metadata": {},
     "output_type": "execute_result"
    }
   ],
   "source": [
    "x.find(\"p\") # índice de primera coincidencia con la cadena \"p\""
   ]
  },
  {
   "cell_type": "code",
   "execution_count": 28,
   "metadata": {
    "collapsed": false
   },
   "outputs": [
    {
     "data": {
      "text/plain": [
       "27"
      ]
     },
     "execution_count": 28,
     "metadata": {},
     "output_type": "execute_result"
    }
   ],
   "source": [
    "x.find(\"semestre\") # índice de primera coincidencia con la cadena \"semestre\""
   ]
  },
  {
   "cell_type": "markdown",
   "metadata": {},
   "source": [
    "6.Otro concepto muy importante en Python es el de listas. Las listas son similares a las cadenas,\n",
    "excepto que cada elemento puede ser de un tipo diferente. La sintaxis para crear listas en\n",
    "Python es [..., ..., ...]. Por ejemplo, ejecute:"
   ]
  },
  {
   "cell_type": "code",
   "execution_count": 34,
   "metadata": {
    "collapsed": false
   },
   "outputs": [
    {
     "name": "stdout",
     "output_type": "stream",
     "text": [
      "<type 'list'>\n",
      "[1, 'hola', 1.0, (1-1j), True]\n"
     ]
    }
   ],
   "source": [
    "lista = [1, \"hola\", 1.0, 1-1j, True]\n",
    "print(type(lista))\n",
    "print(lista)"
   ]
  },
  {
   "cell_type": "markdown",
   "metadata": {},
   "source": [
    "Como puede ver, la variable l es un nuevo tipo de objeto: ’list’. En este caso, es una lista cuyos\n",
    "elementos son un entero, un string, un float, un complejo, y un booleano. Para verificar esto,\n",
    "imprima el valor y el tipo de cada elemento de la lista. Por ejemplo,"
   ]
  },
  {
   "cell_type": "code",
   "execution_count": 36,
   "metadata": {
    "collapsed": false
   },
   "outputs": [
    {
     "name": "stdout",
     "output_type": "stream",
     "text": [
      "(1, <type 'int'>)\n",
      "('hola', <type 'str'>)\n"
     ]
    }
   ],
   "source": [
    "print(lista[0],type(lista[0]))\n",
    "print(lista[1],type(lista[1]))"
   ]
  },
  {
   "cell_type": "markdown",
   "metadata": {},
   "source": [
    "Este ejemplo también muestra que los índices de cada elemento de la lista son numerados de\n",
    "la misma manera que en un string:"
   ]
  },
  {
   "cell_type": "code",
   "execution_count": 38,
   "metadata": {
    "collapsed": false
   },
   "outputs": [
    {
     "name": "stdout",
     "output_type": "stream",
     "text": [
      "[1, 'hola', 1.0]\n",
      "[1, 1.0, True]\n"
     ]
    }
   ],
   "source": [
    "print(lista[0:3])\n",
    "print(lista[::2])"
   ]
  },
  {
   "cell_type": "markdown",
   "metadata": {},
   "source": [
    "7.Los elementos de una lista pueden tener cualquier tipo reconocido por Python, por ejemplo,\n",
    "pueden ser otra lista!:"
   ]
  },
  {
   "cell_type": "code",
   "execution_count": 40,
   "metadata": {
    "collapsed": false
   },
   "outputs": [
    {
     "name": "stdout",
     "output_type": "stream",
     "text": [
      "['cool', [1, 'hola', 1.0, (1-1j), True]]\n"
     ]
    }
   ],
   "source": [
    "superlista=[\"cool\",lista]\n",
    "print(superlista)"
   ]
  },
  {
   "cell_type": "markdown",
   "metadata": {},
   "source": [
    "Imprima el valor y el tipo de cada elementos de esta lista. ¿Cuántos elementos tiene la lista\n",
    "superlista? (respuesta, use la función len())."
   ]
  },
  {
   "cell_type": "code",
   "execution_count": 42,
   "metadata": {
    "collapsed": false
   },
   "outputs": [
    {
     "data": {
      "text/plain": [
       "2"
      ]
     },
     "execution_count": 42,
     "metadata": {},
     "output_type": "execute_result"
    }
   ],
   "source": [
    "len(superlista)"
   ]
  },
  {
   "cell_type": "markdown",
   "metadata": {},
   "source": [
    "8.Existen diversas funciones en Python que crean listas. La función list() crea una lista, por\n",
    "ejemplo, a partir de un string. Usando el string x definido anteriormente, ejecute"
   ]
  },
  {
   "cell_type": "code",
   "execution_count": 44,
   "metadata": {
    "collapsed": false
   },
   "outputs": [
    {
     "name": "stdout",
     "output_type": "stream",
     "text": [
      "['H', 'o', 'l', 'a', ' ', 'e', 's', 't', 'u', 'd', 'i', 'a', 'n', 't', 'e', 's', ' ', 'd', 'e', ' ', 'p', 'r', 'i', 'm', 'e', 'r', ' ', 's', 'e', 'm', 'e', 's', 't', 'r', 'e']\n",
      "<type 'list'>\n"
     ]
    }
   ],
   "source": [
    "y=list(x)\n",
    "print(y)\n",
    "print(type(y))"
   ]
  },
  {
   "cell_type": "markdown",
   "metadata": {},
   "source": [
    "9.Otra función que crea listas útiles, esta vez de números enteros, es range(inicio,fin,paso), que crea una lista de valores desde inicio (cerrado) hasta fin (abierto!!), con paso paso.\n",
    "Ejecute,"
   ]
  },
  {
   "cell_type": "code",
   "execution_count": 46,
   "metadata": {
    "collapsed": false
   },
   "outputs": [
    {
     "name": "stdout",
     "output_type": "stream",
     "text": [
      "[2, 5, 8, 11, 14, 17, 20, 23]\n"
     ]
    }
   ],
   "source": [
    "z=range(2,26,3)\n",
    "print(z)"
   ]
  },
  {
   "cell_type": "markdown",
   "metadata": {},
   "source": [
    "Nuevamente, (inicio,fin,paso) funcionan de forma similar a los índices de un string o una lista:"
   ]
  },
  {
   "cell_type": "code",
   "execution_count": 52,
   "metadata": {
    "collapsed": false
   },
   "outputs": [
    {
     "name": "stdout",
     "output_type": "stream",
     "text": [
      "[2, 3, 4, 5, 6, 7, 8, 9, 10, 11, 12, 13, 14, 15, 16, 17, 18, 19, 20, 21, 22, 23, 24, 25, 26]\n",
      "[26, 25, 24, 23, 22, 21, 20, 19, 18, 17, 16, 15, 14, 13, 12, 11, 10, 9, 8, 7, 6, 5, 4, 3, 2]\n"
     ]
    }
   ],
   "source": [
    "print(range(2,27))\n",
    "print(range(26,1,-1))"
   ]
  },
  {
   "cell_type": "markdown",
   "metadata": {},
   "source": [
    "Bonus track: ¿Qué hacen los siguientes comandos?, ¿Modifican el valor de x y/o lista?"
   ]
  },
  {
   "cell_type": "code",
   "execution_count": 56,
   "metadata": {
    "collapsed": false
   },
   "outputs": [
    {
     "name": "stdout",
     "output_type": "stream",
     "text": [
      "Hola estudiantes de primer semestre\n"
     ]
    },
    {
     "data": {
      "text/plain": [
       "['Hola', 'estudiantes', 'de', 'primer', 'semestre']"
      ]
     },
     "execution_count": 56,
     "metadata": {},
     "output_type": "execute_result"
    }
   ],
   "source": [
    "print(x)\n",
    "x.split(\" \") # divide la cadena basado en el caractér \" \" y la almacena en una lista"
   ]
  },
  {
   "cell_type": "code",
   "execution_count": 55,
   "metadata": {
    "collapsed": false
   },
   "outputs": [
    {
     "data": {
      "text/plain": [
       "['Hola ', 'studiant', 's d', ' prim', 'r s', 'm', 'str', '']"
      ]
     },
     "execution_count": 55,
     "metadata": {},
     "output_type": "execute_result"
    }
   ],
   "source": [
    "x.split(\"e\") # divide la cadena basado en el caractér \"e\" y la almacena en una lista"
   ]
  },
  {
   "cell_type": "code",
   "execution_count": 60,
   "metadata": {
    "collapsed": false
   },
   "outputs": [
    {
     "data": {
      "text/plain": [
       "[1, 'hola', 'cool', 1.0, (1-1j), True, 'chao', 'chao', 'chao']"
      ]
     },
     "execution_count": 60,
     "metadata": {},
     "output_type": "execute_result"
    }
   ],
   "source": [
    "lista.append(\"chao\") # agrega en la última posición de la lista, la cadena \"chao\"\n",
    "lista # modifica la lista"
   ]
  },
  {
   "cell_type": "code",
   "execution_count": 59,
   "metadata": {
    "collapsed": false
   },
   "outputs": [
    {
     "name": "stdout",
     "output_type": "stream",
     "text": [
      "[1, 'hola', 1.0, (1-1j), True, 'chao', 'chao']\n"
     ]
    },
    {
     "data": {
      "text/plain": [
       "[1, 'hola', 'cool', 1.0, (1-1j), True, 'chao', 'chao']"
      ]
     },
     "execution_count": 59,
     "metadata": {},
     "output_type": "execute_result"
    }
   ],
   "source": [
    "print(lista)\n",
    "lista.insert(2,\"cool\") # agrega en el índice 2 la cadena \"cool\"\n",
    "lista # modifica la lista"
   ]
  }
 ],
 "metadata": {
  "anaconda-cloud": {},
  "kernelspec": {
   "display_name": "Python [default]",
   "language": "python",
   "name": "python2"
  },
  "language_info": {
   "codemirror_mode": {
    "name": "ipython",
    "version": 2
   },
   "file_extension": ".py",
   "mimetype": "text/x-python",
   "name": "python",
   "nbconvert_exporter": "python",
   "pygments_lexer": "ipython2",
   "version": "2.7.12"
  }
 },
 "nbformat": 4,
 "nbformat_minor": 1
}
