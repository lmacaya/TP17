{
 "cells": [
  {
   "cell_type": "markdown",
   "metadata": {},
   "source": [
    "En esta práctica usted ejercitará el procesamiento de archivos usando las funciones propias de\n",
    "python, las más avanzadas de numpy, y pandas para tratar bases de datos. Los archivos que requiere\n",
    "para la guía lo encontrará en el directorio Data=Guia de la unidad.\n",
    "\n",
    "1.Use las funciones de python (sin utilizar numpy) para leer el archivo \"visitantes cine 2016.dat\".\n",
    "Defina correctamente la ruta al archivo con la variable str file y use las tres funciones descritas\n",
    "abajo."
   ]
  },
  {
   "cell_type": "code",
   "execution_count": 114,
   "metadata": {
    "collapsed": true
   },
   "outputs": [],
   "source": [
    "%matplotlib inline\n",
    "import matplotlib.pyplot as plt\n",
    "import numpy as np\n",
    "import scipy as sp"
   ]
  },
  {
   "cell_type": "code",
   "execution_count": 4,
   "metadata": {
    "collapsed": true
   },
   "outputs": [],
   "source": [
    "str_file = \"../../Tratamiento_datos/data/Guia/visitantes_cine_2016.dat\""
   ]
  },
  {
   "cell_type": "code",
   "execution_count": 15,
   "metadata": {
    "collapsed": false
   },
   "outputs": [
    {
     "name": "stdout",
     "output_type": "stream",
     "text": [
      "1 408\n",
      "2 520\n",
      "3 305\n",
      "4 312\n",
      "5 319\n",
      "6 380\n",
      "7 540\n",
      "8 400\n",
      "9 398\n",
      "10 299\n",
      "11 250\n",
      "12 350\n",
      "\n"
     ]
    }
   ],
   "source": [
    "f_in = open(str_file, 'r')\n",
    "print(f_in.read())\n",
    "f_in.close()"
   ]
  },
  {
   "cell_type": "code",
   "execution_count": 18,
   "metadata": {
    "collapsed": false
   },
   "outputs": [
    {
     "name": "stdout",
     "output_type": "stream",
     "text": [
      "1 408\n",
      "\n"
     ]
    }
   ],
   "source": [
    "f_in = open(str_file, 'r')\n",
    "print(f_in.readline())\n",
    "f_in.close()"
   ]
  },
  {
   "cell_type": "code",
   "execution_count": 19,
   "metadata": {
    "collapsed": false
   },
   "outputs": [
    {
     "name": "stdout",
     "output_type": "stream",
     "text": [
      "['1 408\\n', '2 520\\n', '3 305\\n', '4 312\\n', '5 319\\n', '6 380\\n', '7 540\\n', '8 400\\n', '9 398\\n', '10 299\\n', '11 250\\n', '12 350\\n']\n"
     ]
    }
   ],
   "source": [
    "f_in = open(str_file, 'r')\n",
    "print(f_in.readlines())\n",
    "f_in.close()"
   ]
  },
  {
   "cell_type": "markdown",
   "metadata": {},
   "source": [
    "No olvide abrir y cerrar el archivo despu\u0013es de procesarlo con las funciones open y close.\n",
    "Compare los distintos tipos y contenidos de la variable data como resultado de cada función."
   ]
  },
  {
   "cell_type": "markdown",
   "metadata": {},
   "source": [
    "2.Lea el primer renglón del mismo archivo y asigne el contenido a dos variables, una con nombre\n",
    "mes que contenga el mes y la otra vis con el número de visitantes."
   ]
  },
  {
   "cell_type": "code",
   "execution_count": 30,
   "metadata": {
    "collapsed": false
   },
   "outputs": [
    {
     "name": "stdout",
     "output_type": "stream",
     "text": [
      "1 408\n"
     ]
    }
   ],
   "source": [
    "f_in = open(str_file, 'r')\n",
    "\n",
    "line = f_in.readline()\n",
    "mes, vis = line.split()\n",
    "\n",
    "f_in.close()\n",
    "\n",
    "print mes, vis"
   ]
  },
  {
   "cell_type": "markdown",
   "metadata": {},
   "source": [
    "3.Procese todo el archivo con un bucle (loop) y guarde el contenido en dos listas con el mismo\n",
    "nombre de las variables del ejercicio anterior."
   ]
  },
  {
   "cell_type": "code",
   "execution_count": 75,
   "metadata": {
    "collapsed": false
   },
   "outputs": [
    {
     "name": "stdout",
     "output_type": "stream",
     "text": [
      "([1.0, 2.0, 3.0, 4.0, 5.0, 6.0, 7.0, 8.0, 9.0, 10.0, 11.0, 12.0], [408.0, 520.0, 305.0, 312.0, 319.0, 380.0, 540.0, 400.0, 398.0, 299.0, 250.0, 350.0])\n"
     ]
    }
   ],
   "source": [
    "mes = []\n",
    "vis = []\n",
    "\n",
    "f_in = open(str_file, 'r')\n",
    "\n",
    "for line in f_in:\n",
    "    mes.append(float(line.split()[0]))\n",
    "    vis.append(float(line.split()[1]))\n",
    "\n",
    "f_in.close()\n",
    "\n",
    "print(mes, vis)"
   ]
  },
  {
   "cell_type": "markdown",
   "metadata": {},
   "source": [
    "4. Grafique con matplotlib el número de visitantes en función del mes. Calcule el número de\n",
    "visitantes anuales y el promedio de visitantes mensuales."
   ]
  },
  {
   "cell_type": "code",
   "execution_count": 102,
   "metadata": {
    "collapsed": false
   },
   "outputs": [
    {
     "data": {
      "image/png": "[encoded data removed]",
      "text/plain": [
       "<matplotlib.figure.Figure at 0xa1df208>"
      ]
     },
     "metadata": {},
     "output_type": "display_data"
    },
    {
     "name": "stdout",
     "output_type": "stream",
     "text": [
      "4481.0 373.416666667\n"
     ]
    }
   ],
   "source": [
    "plt.scatter(mes, vis)\n",
    "plt.xticks(np.arange(len(mes)+1))\n",
    "plt.show()\n",
    "\n",
    "vis_array = np.array(vis)\n",
    "annual_visitors = np.sum(vis_array)\n",
    "mean_annual_visitors = np.mean(vis_array)\n",
    "\n",
    "print annual_visitors, mean_annual_visitors"
   ]
  },
  {
   "cell_type": "code",
   "execution_count": 101,
   "metadata": {
    "collapsed": false
   },
   "outputs": [],
   "source": [
    "f_out = open(\"annual_visitors.txt\", 'w')\n",
    "\n",
    "f_out.write(\"Annual visits: {0}\\nMean: {1:15.1f}\".format (annual_visitors, mean_annual_visitors))\n",
    "f_out.close()"
   ]
  },
  {
   "cell_type": "markdown",
   "metadata": {},
   "source": [
    "6. Use la función genfromtxt o loadtxt del módulo numpy para procesar el archivo msd.xvg que\n",
    "se encuentra en el directorio Data=Guia. Este archivo contiene la desviación cuadrática media\n",
    "de un partícula (CO2 en agua) en nm2 en función del tiempo de simulación en ps. Grafique\n",
    "estas dos variables y realice una regresión lineal para calcular el coeficiente de difusión que\n",
    "equivale a un sexto de la pendiente de la regresión. (El valor obtenido por otro programa lo\n",
    "encuentra como un comentario al inicio del archivo msd.xvg)"
   ]
  },
  {
   "cell_type": "code",
   "execution_count": 220,
   "metadata": {
    "collapsed": true
   },
   "outputs": [],
   "source": [
    "np.loadtxt?"
   ]
  },
  {
   "cell_type": "code",
   "execution_count": 224,
   "metadata": {
    "collapsed": false
   },
   "outputs": [
    {
     "name": "stdout",
     "output_type": "stream",
     "text": [
      "2.20489871418e-05\n"
     ]
    },
    {
     "data": {
      "image/png": "[encoded data removed]",
      "text/plain": [
       "<matplotlib.figure.Figure at 0xc6b2198>"
      ]
     },
     "metadata": {},
     "output_type": "display_data"
    }
   ],
   "source": [
    "from scipy import stats\n",
    "\n",
    "t, msd = np.genfromtxt(\"../../Tratamiento_datos/data/Guia/msd.xvg\", skip_header= 10, unpack= True)\n",
    "slope, intercept, r_value, p_value, std_err = stats.linregress(t, msd)\n",
    "plt.plot(t, msd) \n",
    "\n",
    "# nm^2/ps\n",
    "diffusion_coefficient = ((slope / 6) * (10 ** -14)) / (10 ** -12)\n",
    "print(diffusion_coefficient)"
   ]
  },
  {
   "cell_type": "markdown",
   "metadata": {},
   "source": [
    "7.Guarde los valores del dolar con formato excel"
   ]
  },
  {
   "cell_type": "code",
   "execution_count": 283,
   "metadata": {
    "collapsed": false
   },
   "outputs": [],
   "source": [
    "data = np.genfromtxt(\"../../Tratamiento_datos/data/Guia/dolar.csv\", delimiter=',', skip_header=3, missing_values= '', \\\n",
    "                     filling_values= 0., usecols=(1))"
   ]
  },
  {
   "cell_type": "code",
   "execution_count": 284,
   "metadata": {
    "collapsed": false
   },
   "outputs": [
    {
     "data": {
      "text/plain": [
       "468.57629120879125"
      ]
     },
     "execution_count": 284,
     "metadata": {},
     "output_type": "execute_result"
    }
   ],
   "source": [
    "data.mean()"
   ]
  },
  {
   "cell_type": "code",
   "execution_count": 214,
   "metadata": {
    "collapsed": false
   },
   "outputs": [
    {
     "data": {
      "text/plain": [
       "array([ 710.16,  716.94,  715.08,  715.84,  721.31,     nan,     nan,\n",
       "        723.31,  729.78,  730.28,  726.57,  725.98,     nan,     nan,\n",
       "        730.31,  730.2 ,  726.19,  729.22,  726.63,     nan,     nan,\n",
       "        715.63,  717.46,  720.14,  716.21,  711.72,     nan,     nan,\n",
       "        710.37,  714.44,  713.54,  709.43,  698.49,     nan,     nan,\n",
       "        700.02,  709.75,  715.41,  711.34,  713.47,     nan,     nan,\n",
       "        708.63,  701.39,  704.92,  705.44,  700.74,     nan,     nan,\n",
       "        702.38,  693.78,  693.23,  698.47,  691.36,     nan,     nan,\n",
       "        689.18,  694.17,  694.82,  688.48,  686.64,     nan,     nan,\n",
       "        681.39,  681.63,  682.  ,  678.72,  678.22,     nan,     nan,\n",
       "        683.  ,  684.74,  685.98,  688.11,  672.06,     nan,     nan,\n",
       "        671.97,  677.52,  677.42,  677.16,     nan,     nan,     nan,\n",
       "        682.36,  680.84,  683.16,  675.1 ,  669.8 ,     nan,     nan,\n",
       "        671.24,  669.55,  674.93,  676.62,  680.79,     nan,     nan,\n",
       "        682.45,  682.16,  674.58,  670.8 ,  668.38,     nan,     nan,\n",
       "        666.6 ,  666.  ,  657.9 ,  660.38,  660.34,     nan,     nan,\n",
       "        666.8 ,  668.36,  669.01,  668.49,  663.4 ,     nan,     nan,\n",
       "        659.34,  660.88,  667.89,  670.36,  667.43,     nan,     nan,\n",
       "        666.89,  670.97,  677.2 ,  678.5 ,  682.55,     nan,     nan,\n",
       "        689.34,  692.52,  692.77,  691.32,  696.96,     nan,     nan,\n",
       "        692.19,  693.89,  692.87,  692.24,  687.34,     nan,     nan,\n",
       "        687.43,  690.27,  689.81,  693.61,  691.36,     nan,     nan,\n",
       "        683.27,  680.55,  679.85,  673.14,  678.18,     nan,     nan,\n",
       "        683.67,  685.  ,  688.34,  685.89,  689.83,     nan,     nan,\n",
       "        685.64,  679.8 ,  676.03,  672.8 ,  669.88,     nan,     nan,\n",
       "           nan,  680.21,  674.16,  661.49,  661.37,     nan,     nan,\n",
       "        659.64,  659.26,  661.29,  664.51,  664.06,     nan,     nan,\n",
       "        661.5 ,  657.84,  657.82,  658.2 ,  650.92,     nan,     nan,\n",
       "        650.58,  650.84,  651.53,  651.43,  650.09,     nan,     nan,\n",
       "        650.78,  656.33,  661.04,  664.94,  664.94,     nan,     nan,\n",
       "        656.95,  657.47,  654.76,  657.21,  657.36,     nan,     nan,\n",
       "        656.98,  654.79,  653.06,  649.29,  645.22,     nan,     nan,\n",
       "           nan,  648.31,  649.01,  657.46,  656.05,     nan,     nan,\n",
       "        660.94,  667.31,  668.57,  671.49,  665.94,     nan,     nan,\n",
       "        662.93,  671.32,  673.17,  678.57,  680.28,     nan,     nan,\n",
       "        675.43,  673.61,  669.49,  660.95,  661.93,     nan,     nan,\n",
       "        670.61,  674.18,  672.97,  674.93,  671.36,     nan,     nan,\n",
       "           nan,  674.67,  672.73,  666.89,  657.32,     nan,     nan,\n",
       "        659.71,  662.34,  661.96,  662.27,  659.08,     nan,     nan,\n",
       "        658.02,  658.59,  662.29,  664.86,  666.97,     nan,     nan,\n",
       "           nan,  667.93,  667.47,  667.19,  670.88,     nan,     nan,\n",
       "        670.37,  670.61,  668.47,  667.41,  666.74,     nan,     nan,\n",
       "        667.09,  660.38,  653.98,  653.62,  651.65,     nan,     nan,\n",
       "           nan,     nan,  651.18,  653.55,  650.72,     nan,     nan,\n",
       "        654.87,  654.66,  651.32,  650.95,  656.36,     nan,     nan,\n",
       "        663.23,  668.29,  668.93,  675.77,  674.38,     nan,     nan,\n",
       "        678.28,  675.39,  674.37,  679.24,  677.56,     nan,     nan,\n",
       "        678.03,  675.91,  675.48,  673.54,  674.76,     nan,     nan,\n",
       "        672.58,  668.9 ,  662.05,     nan,  656.07,     nan,     nan,\n",
       "        653.55,  649.4 ,  650.25,  654.94,  663.68,     nan,     nan,\n",
       "        670.16,  677.11,  676.09,  672.24,  674.96,     nan,     nan,\n",
       "        673.48,  672.69,  673.73,  673.06,  667.29,     nan,     nan])"
      ]
     },
     "execution_count": 214,
     "metadata": {},
     "output_type": "execute_result"
    }
   ],
   "source": [
    "data"
   ]
  },
  {
   "cell_type": "code",
   "execution_count": 285,
   "metadata": {
    "collapsed": false
   },
   "outputs": [
    {
     "data": {
      "text/plain": [
       "<matplotlib.collections.PathCollection at 0x10bec2b0>"
      ]
     },
     "execution_count": 285,
     "metadata": {},
     "output_type": "execute_result"
    },
    {
     "data": {
      "image/png": "[encoded data removed]",
      "text/plain": [
       "<matplotlib.figure.Figure at 0x10bec208>"
      ]
     },
     "metadata": {},
     "output_type": "display_data"
    }
   ],
   "source": [
    "plt.scatter(np.arange(len(data)), data)"
   ]
  },
  {
   "cell_type": "code",
   "execution_count": 165,
   "metadata": {
    "collapsed": true
   },
   "outputs": [],
   "source": [
    "import pandas\n",
    "pandas.read_csv?"
   ]
  },
  {
   "cell_type": "code",
   "execution_count": 180,
   "metadata": {
    "collapsed": false
   },
   "outputs": [],
   "source": [
    "data = pandas.read_csv(\"../../Tratamiento_datos/data/Guia/dolar.csv\", skiprows= 2, usecols=(0,1))"
   ]
  },
  {
   "cell_type": "code",
   "execution_count": 181,
   "metadata": {
    "collapsed": false
   },
   "outputs": [],
   "source": [
    "data_fill = data.fillna(0)"
   ]
  },
  {
   "cell_type": "code",
   "execution_count": 182,
   "metadata": {
    "collapsed": false
   },
   "outputs": [
    {
     "data": {
      "text/plain": [
       "468.57629120879125"
      ]
     },
     "execution_count": 182,
     "metadata": {},
     "output_type": "execute_result"
    }
   ],
   "source": [
    "data_fill['1. D\\x97lar observado'].mean()"
   ]
  },
  {
   "cell_type": "markdown",
   "metadata": {},
   "source": [
    "10.Bonus Track (opcional): Busque en internet bajo el link http://www.datos.gob.cl una\n",
    "base de datos con las precipitaciones en Chile del primer semestre del año 2015. Descargue el\n",
    "archivo con formato .csv. Procese el archivo con el módulo pandas y analice los datos para\n",
    "responder a la siguientes preguntas: a. Cuál estación registro la mayor precipitación diaria y\n",
    "en que fecha ocurrio esto? b. Cuál fue la precipitación acumulada en la estación de Pichoy,\n",
    "Valdivia durante el primer semestre de este año? (Para esta última pregunta se recomienda\n",
    "usar la función loc en pandas)"
   ]
  },
  {
   "cell_type": "code",
   "execution_count": 293,
   "metadata": {
    "collapsed": false
   },
   "outputs": [],
   "source": [
    "data_precipitaciones = pandas.read_csv(\"../../Tratamiento_datos/data/Guia/precipitaciones.csv\", delimiter=';', header=None, \\\n",
    "                                       names=[\"ID\", \"LUGAR\", \"LOC\", \"N\", \"AÑO\", \"MES\", \"DIA\",\"AGUA\"])"
   ]
  },
  {
   "cell_type": "code",
   "execution_count": 299,
   "metadata": {
    "collapsed": false
   },
   "outputs": [
    {
     "data": {
      "text/html": [
       "<div>\n",
       "<table border=\"1\" class=\"dataframe\">\n",
       "  <thead>\n",
       "    <tr style=\"text-align: right;\">\n",
       "      <th></th>\n",
       "      <th>ID</th>\n",
       "      <th>LUGAR</th>\n",
       "      <th>LOC</th>\n",
       "      <th>N</th>\n",
       "      <th>AÑO</th>\n",
       "      <th>MES</th>\n",
       "      <th>DIA</th>\n",
       "      <th>AGUA</th>\n",
       "    </tr>\n",
       "  </thead>\n",
       "  <tbody>\n",
       "    <tr>\n",
       "      <th>4612</th>\n",
       "      <td>450001</td>\n",
       "      <td>Puerto Aysén Ad.</td>\n",
       "      <td>45&amp;deg 23' 46'' S</td>\n",
       "      <td>10</td>\n",
       "      <td>2015</td>\n",
       "      <td>5</td>\n",
       "      <td>17</td>\n",
       "      <td>146.0</td>\n",
       "    </tr>\n",
       "    <tr>\n",
       "      <th>4584</th>\n",
       "      <td>430004</td>\n",
       "      <td>Alto Palena Ad.</td>\n",
       "      <td>43&amp;deg 36' 42'' S</td>\n",
       "      <td>281</td>\n",
       "      <td>2015</td>\n",
       "      <td>5</td>\n",
       "      <td>16</td>\n",
       "      <td>93.7</td>\n",
       "    </tr>\n",
       "    <tr>\n",
       "      <th>4553</th>\n",
       "      <td>430002</td>\n",
       "      <td>Futaleufú Ad.</td>\n",
       "      <td>43&amp;deg 11' 20'' S</td>\n",
       "      <td>347</td>\n",
       "      <td>2015</td>\n",
       "      <td>5</td>\n",
       "      <td>16</td>\n",
       "      <td>93.0</td>\n",
       "    </tr>\n",
       "    <tr>\n",
       "      <th>4639</th>\n",
       "      <td>450004</td>\n",
       "      <td>Teniente Vidal, Coyhaique Ad.</td>\n",
       "      <td>45&amp;deg 35' 38'' S</td>\n",
       "      <td>310</td>\n",
       "      <td>2015</td>\n",
       "      <td>5</td>\n",
       "      <td>15</td>\n",
       "      <td>78.8</td>\n",
       "    </tr>\n",
       "    <tr>\n",
       "      <th>5398</th>\n",
       "      <td>380013</td>\n",
       "      <td>Maquehue, Temuco Ad.</td>\n",
       "      <td>38&amp;deg 46' 4'' S</td>\n",
       "      <td>86</td>\n",
       "      <td>2015</td>\n",
       "      <td>6</td>\n",
       "      <td>1</td>\n",
       "      <td>65.3</td>\n",
       "    </tr>\n",
       "    <tr>\n",
       "      <th>4473</th>\n",
       "      <td>390006</td>\n",
       "      <td>Pichoy, Valdivia Ad.</td>\n",
       "      <td>39&amp;deg 39' 2'' S</td>\n",
       "      <td>21</td>\n",
       "      <td>2015</td>\n",
       "      <td>5</td>\n",
       "      <td>29</td>\n",
       "      <td>63.1</td>\n",
       "    </tr>\n",
       "    <tr>\n",
       "      <th>5371</th>\n",
       "      <td>370033</td>\n",
       "      <td>María Dolores, Los Angeles Ad.</td>\n",
       "      <td>37&amp;deg 24' 10'' S</td>\n",
       "      <td>120</td>\n",
       "      <td>2015</td>\n",
       "      <td>6</td>\n",
       "      <td>4</td>\n",
       "      <td>62.6</td>\n",
       "    </tr>\n",
       "    <tr>\n",
       "      <th>5851</th>\n",
       "      <td>950001</td>\n",
       "      <td>C.M.A. Eduardo Frei Montalva, Antártica</td>\n",
       "      <td>62&amp;deg 11' 35'' S</td>\n",
       "      <td>45</td>\n",
       "      <td>2015</td>\n",
       "      <td>6</td>\n",
       "      <td>23</td>\n",
       "      <td>61.8</td>\n",
       "    </tr>\n",
       "    <tr>\n",
       "      <th>4670</th>\n",
       "      <td>450005</td>\n",
       "      <td>Balmaceda Ad.</td>\n",
       "      <td>45&amp;deg 54' 46'' S</td>\n",
       "      <td>517</td>\n",
       "      <td>2015</td>\n",
       "      <td>5</td>\n",
       "      <td>15</td>\n",
       "      <td>61.6</td>\n",
       "    </tr>\n",
       "    <tr>\n",
       "      <th>3045</th>\n",
       "      <td>270001</td>\n",
       "      <td>Mataveri  Isla de Pascua Ap.</td>\n",
       "      <td>27&amp;deg 9' 38'' S</td>\n",
       "      <td>48</td>\n",
       "      <td>2015</td>\n",
       "      <td>4</td>\n",
       "      <td>8</td>\n",
       "      <td>59.4</td>\n",
       "    </tr>\n",
       "    <tr>\n",
       "      <th>4444</th>\n",
       "      <td>380013</td>\n",
       "      <td>Maquehue, Temuco Ad.</td>\n",
       "      <td>38&amp;deg 46' 4'' S</td>\n",
       "      <td>86</td>\n",
       "      <td>2015</td>\n",
       "      <td>5</td>\n",
       "      <td>31</td>\n",
       "      <td>58.5</td>\n",
       "    </tr>\n",
       "    <tr>\n",
       "      <th>5431</th>\n",
       "      <td>390006</td>\n",
       "      <td>Pichoy, Valdivia Ad.</td>\n",
       "      <td>39&amp;deg 39' 2'' S</td>\n",
       "      <td>21</td>\n",
       "      <td>2015</td>\n",
       "      <td>6</td>\n",
       "      <td>4</td>\n",
       "      <td>58.4</td>\n",
       "    </tr>\n",
       "    <tr>\n",
       "      <th>4589</th>\n",
       "      <td>430004</td>\n",
       "      <td>Alto Palena Ad.</td>\n",
       "      <td>43&amp;deg 36' 42'' S</td>\n",
       "      <td>281</td>\n",
       "      <td>2015</td>\n",
       "      <td>5</td>\n",
       "      <td>21</td>\n",
       "      <td>57.8</td>\n",
       "    </tr>\n",
       "    <tr>\n",
       "      <th>4616</th>\n",
       "      <td>450001</td>\n",
       "      <td>Puerto Aysén Ad.</td>\n",
       "      <td>45&amp;deg 23' 46'' S</td>\n",
       "      <td>10</td>\n",
       "      <td>2015</td>\n",
       "      <td>5</td>\n",
       "      <td>21</td>\n",
       "      <td>56.0</td>\n",
       "    </tr>\n",
       "    <tr>\n",
       "      <th>3616</th>\n",
       "      <td>450001</td>\n",
       "      <td>Puerto Aysén Ad.</td>\n",
       "      <td>45&amp;deg 23' 46'' S</td>\n",
       "      <td>10</td>\n",
       "      <td>2015</td>\n",
       "      <td>4</td>\n",
       "      <td>12</td>\n",
       "      <td>56.0</td>\n",
       "    </tr>\n",
       "    <tr>\n",
       "      <th>2651</th>\n",
       "      <td>450001</td>\n",
       "      <td>Puerto Aysén Ad.</td>\n",
       "      <td>45&amp;deg 23' 46'' S</td>\n",
       "      <td>10</td>\n",
       "      <td>2015</td>\n",
       "      <td>3</td>\n",
       "      <td>31</td>\n",
       "      <td>53.5</td>\n",
       "    </tr>\n",
       "    <tr>\n",
       "      <th>5542</th>\n",
       "      <td>430002</td>\n",
       "      <td>Futaleufú Ad.</td>\n",
       "      <td>43&amp;deg 11' 20'' S</td>\n",
       "      <td>347</td>\n",
       "      <td>2015</td>\n",
       "      <td>6</td>\n",
       "      <td>25</td>\n",
       "      <td>52.2</td>\n",
       "    </tr>\n",
       "    <tr>\n",
       "      <th>3458</th>\n",
       "      <td>390006</td>\n",
       "      <td>Pichoy, Valdivia Ad.</td>\n",
       "      <td>39&amp;deg 39' 2'' S</td>\n",
       "      <td>21</td>\n",
       "      <td>2015</td>\n",
       "      <td>4</td>\n",
       "      <td>1</td>\n",
       "      <td>51.1</td>\n",
       "    </tr>\n",
       "    <tr>\n",
       "      <th>2637</th>\n",
       "      <td>450001</td>\n",
       "      <td>Puerto Aysén Ad.</td>\n",
       "      <td>45&amp;deg 23' 46'' S</td>\n",
       "      <td>10</td>\n",
       "      <td>2015</td>\n",
       "      <td>3</td>\n",
       "      <td>15</td>\n",
       "      <td>49.0</td>\n",
       "    </tr>\n",
       "    <tr>\n",
       "      <th>4583</th>\n",
       "      <td>430004</td>\n",
       "      <td>Alto Palena Ad.</td>\n",
       "      <td>43&amp;deg 36' 42'' S</td>\n",
       "      <td>281</td>\n",
       "      <td>2015</td>\n",
       "      <td>5</td>\n",
       "      <td>15</td>\n",
       "      <td>48.8</td>\n",
       "    </tr>\n",
       "    <tr>\n",
       "      <th>5554</th>\n",
       "      <td>430004</td>\n",
       "      <td>Alto Palena Ad.</td>\n",
       "      <td>43&amp;deg 36' 42'' S</td>\n",
       "      <td>281</td>\n",
       "      <td>2015</td>\n",
       "      <td>6</td>\n",
       "      <td>7</td>\n",
       "      <td>48.7</td>\n",
       "    </tr>\n",
       "    <tr>\n",
       "      <th>4430</th>\n",
       "      <td>380013</td>\n",
       "      <td>Maquehue, Temuco Ad.</td>\n",
       "      <td>38&amp;deg 46' 4'' S</td>\n",
       "      <td>86</td>\n",
       "      <td>2015</td>\n",
       "      <td>5</td>\n",
       "      <td>17</td>\n",
       "      <td>47.5</td>\n",
       "    </tr>\n",
       "    <tr>\n",
       "      <th>5813</th>\n",
       "      <td>550001</td>\n",
       "      <td>Guardia Marina Zañartu, Pto Williams Ad.</td>\n",
       "      <td>54&amp;deg 55' 54'' S</td>\n",
       "      <td>10</td>\n",
       "      <td>2015</td>\n",
       "      <td>6</td>\n",
       "      <td>15</td>\n",
       "      <td>47.2</td>\n",
       "    </tr>\n",
       "    <tr>\n",
       "      <th>2631</th>\n",
       "      <td>450001</td>\n",
       "      <td>Puerto Aysén Ad.</td>\n",
       "      <td>45&amp;deg 23' 46'' S</td>\n",
       "      <td>10</td>\n",
       "      <td>2015</td>\n",
       "      <td>3</td>\n",
       "      <td>8</td>\n",
       "      <td>45.5</td>\n",
       "    </tr>\n",
       "    <tr>\n",
       "      <th>5549</th>\n",
       "      <td>430004</td>\n",
       "      <td>Alto Palena Ad.</td>\n",
       "      <td>43&amp;deg 36' 42'' S</td>\n",
       "      <td>281</td>\n",
       "      <td>2015</td>\n",
       "      <td>6</td>\n",
       "      <td>2</td>\n",
       "      <td>45.2</td>\n",
       "    </tr>\n",
       "    <tr>\n",
       "      <th>4587</th>\n",
       "      <td>430004</td>\n",
       "      <td>Alto Palena Ad.</td>\n",
       "      <td>43&amp;deg 36' 42'' S</td>\n",
       "      <td>281</td>\n",
       "      <td>2015</td>\n",
       "      <td>5</td>\n",
       "      <td>19</td>\n",
       "      <td>44.6</td>\n",
       "    </tr>\n",
       "    <tr>\n",
       "      <th>4275</th>\n",
       "      <td>330031</td>\n",
       "      <td>Juan Fernández, Estación Meteorológica.</td>\n",
       "      <td>33&amp;deg 38' 12'' S</td>\n",
       "      <td>35</td>\n",
       "      <td>2015</td>\n",
       "      <td>5</td>\n",
       "      <td>17</td>\n",
       "      <td>44.4</td>\n",
       "    </tr>\n",
       "    <tr>\n",
       "      <th>5022</th>\n",
       "      <td>270001</td>\n",
       "      <td>Mataveri  Isla de Pascua Ap.</td>\n",
       "      <td>27&amp;deg 9' 38'' S</td>\n",
       "      <td>48</td>\n",
       "      <td>2015</td>\n",
       "      <td>6</td>\n",
       "      <td>15</td>\n",
       "      <td>44.0</td>\n",
       "    </tr>\n",
       "    <tr>\n",
       "      <th>4556</th>\n",
       "      <td>430002</td>\n",
       "      <td>Futaleufú Ad.</td>\n",
       "      <td>43&amp;deg 11' 20'' S</td>\n",
       "      <td>347</td>\n",
       "      <td>2015</td>\n",
       "      <td>5</td>\n",
       "      <td>19</td>\n",
       "      <td>43.6</td>\n",
       "    </tr>\n",
       "    <tr>\n",
       "      <th>3622</th>\n",
       "      <td>450001</td>\n",
       "      <td>Puerto Aysén Ad.</td>\n",
       "      <td>45&amp;deg 23' 46'' S</td>\n",
       "      <td>10</td>\n",
       "      <td>2015</td>\n",
       "      <td>4</td>\n",
       "      <td>19</td>\n",
       "      <td>43.4</td>\n",
       "    </tr>\n",
       "    <tr>\n",
       "      <th>...</th>\n",
       "      <td>...</td>\n",
       "      <td>...</td>\n",
       "      <td>...</td>\n",
       "      <td>...</td>\n",
       "      <td>...</td>\n",
       "      <td>...</td>\n",
       "      <td>...</td>\n",
       "      <td>...</td>\n",
       "    </tr>\n",
       "    <tr>\n",
       "      <th>2048</th>\n",
       "      <td>270001</td>\n",
       "      <td>Mataveri  Isla de Pascua Ap.</td>\n",
       "      <td>27&amp;deg 9' 38'' S</td>\n",
       "      <td>48</td>\n",
       "      <td>2015</td>\n",
       "      <td>3</td>\n",
       "      <td>12</td>\n",
       "      <td>0.0</td>\n",
       "    </tr>\n",
       "    <tr>\n",
       "      <th>2047</th>\n",
       "      <td>270001</td>\n",
       "      <td>Mataveri  Isla de Pascua Ap.</td>\n",
       "      <td>27&amp;deg 9' 38'' S</td>\n",
       "      <td>48</td>\n",
       "      <td>2015</td>\n",
       "      <td>3</td>\n",
       "      <td>11</td>\n",
       "      <td>0.0</td>\n",
       "    </tr>\n",
       "    <tr>\n",
       "      <th>2046</th>\n",
       "      <td>270001</td>\n",
       "      <td>Mataveri  Isla de Pascua Ap.</td>\n",
       "      <td>27&amp;deg 9' 38'' S</td>\n",
       "      <td>48</td>\n",
       "      <td>2015</td>\n",
       "      <td>3</td>\n",
       "      <td>10</td>\n",
       "      <td>0.0</td>\n",
       "    </tr>\n",
       "    <tr>\n",
       "      <th>2045</th>\n",
       "      <td>270001</td>\n",
       "      <td>Mataveri  Isla de Pascua Ap.</td>\n",
       "      <td>27&amp;deg 9' 38'' S</td>\n",
       "      <td>48</td>\n",
       "      <td>2015</td>\n",
       "      <td>3</td>\n",
       "      <td>9</td>\n",
       "      <td>0.0</td>\n",
       "    </tr>\n",
       "    <tr>\n",
       "      <th>2044</th>\n",
       "      <td>270001</td>\n",
       "      <td>Mataveri  Isla de Pascua Ap.</td>\n",
       "      <td>27&amp;deg 9' 38'' S</td>\n",
       "      <td>48</td>\n",
       "      <td>2015</td>\n",
       "      <td>3</td>\n",
       "      <td>8</td>\n",
       "      <td>0.0</td>\n",
       "    </tr>\n",
       "    <tr>\n",
       "      <th>2042</th>\n",
       "      <td>270001</td>\n",
       "      <td>Mataveri  Isla de Pascua Ap.</td>\n",
       "      <td>27&amp;deg 9' 38'' S</td>\n",
       "      <td>48</td>\n",
       "      <td>2015</td>\n",
       "      <td>3</td>\n",
       "      <td>6</td>\n",
       "      <td>0.0</td>\n",
       "    </tr>\n",
       "    <tr>\n",
       "      <th>2041</th>\n",
       "      <td>270001</td>\n",
       "      <td>Mataveri  Isla de Pascua Ap.</td>\n",
       "      <td>27&amp;deg 9' 38'' S</td>\n",
       "      <td>48</td>\n",
       "      <td>2015</td>\n",
       "      <td>3</td>\n",
       "      <td>5</td>\n",
       "      <td>0.0</td>\n",
       "    </tr>\n",
       "    <tr>\n",
       "      <th>2040</th>\n",
       "      <td>270001</td>\n",
       "      <td>Mataveri  Isla de Pascua Ap.</td>\n",
       "      <td>27&amp;deg 9' 38'' S</td>\n",
       "      <td>48</td>\n",
       "      <td>2015</td>\n",
       "      <td>3</td>\n",
       "      <td>4</td>\n",
       "      <td>0.0</td>\n",
       "    </tr>\n",
       "    <tr>\n",
       "      <th>2038</th>\n",
       "      <td>270001</td>\n",
       "      <td>Mataveri  Isla de Pascua Ap.</td>\n",
       "      <td>27&amp;deg 9' 38'' S</td>\n",
       "      <td>48</td>\n",
       "      <td>2015</td>\n",
       "      <td>3</td>\n",
       "      <td>2</td>\n",
       "      <td>0.0</td>\n",
       "    </tr>\n",
       "    <tr>\n",
       "      <th>2066</th>\n",
       "      <td>270001</td>\n",
       "      <td>Mataveri  Isla de Pascua Ap.</td>\n",
       "      <td>27&amp;deg 9' 38'' S</td>\n",
       "      <td>48</td>\n",
       "      <td>2015</td>\n",
       "      <td>3</td>\n",
       "      <td>30</td>\n",
       "      <td>0.0</td>\n",
       "    </tr>\n",
       "    <tr>\n",
       "      <th>2068</th>\n",
       "      <td>270008</td>\n",
       "      <td>Desierto de Atacama, Caldera  Ad.</td>\n",
       "      <td>27&amp;deg 15' 50'' S</td>\n",
       "      <td>204</td>\n",
       "      <td>2015</td>\n",
       "      <td>3</td>\n",
       "      <td>1</td>\n",
       "      <td>0.0</td>\n",
       "    </tr>\n",
       "    <tr>\n",
       "      <th>2069</th>\n",
       "      <td>270008</td>\n",
       "      <td>Desierto de Atacama, Caldera  Ad.</td>\n",
       "      <td>27&amp;deg 15' 50'' S</td>\n",
       "      <td>204</td>\n",
       "      <td>2015</td>\n",
       "      <td>3</td>\n",
       "      <td>2</td>\n",
       "      <td>0.0</td>\n",
       "    </tr>\n",
       "    <tr>\n",
       "      <th>2080</th>\n",
       "      <td>270008</td>\n",
       "      <td>Desierto de Atacama, Caldera  Ad.</td>\n",
       "      <td>27&amp;deg 15' 50'' S</td>\n",
       "      <td>204</td>\n",
       "      <td>2015</td>\n",
       "      <td>3</td>\n",
       "      <td>13</td>\n",
       "      <td>0.0</td>\n",
       "    </tr>\n",
       "    <tr>\n",
       "      <th>2087</th>\n",
       "      <td>270008</td>\n",
       "      <td>Desierto de Atacama, Caldera  Ad.</td>\n",
       "      <td>27&amp;deg 15' 50'' S</td>\n",
       "      <td>204</td>\n",
       "      <td>2015</td>\n",
       "      <td>3</td>\n",
       "      <td>20</td>\n",
       "      <td>0.0</td>\n",
       "    </tr>\n",
       "    <tr>\n",
       "      <th>2086</th>\n",
       "      <td>270008</td>\n",
       "      <td>Desierto de Atacama, Caldera  Ad.</td>\n",
       "      <td>27&amp;deg 15' 50'' S</td>\n",
       "      <td>204</td>\n",
       "      <td>2015</td>\n",
       "      <td>3</td>\n",
       "      <td>19</td>\n",
       "      <td>0.0</td>\n",
       "    </tr>\n",
       "    <tr>\n",
       "      <th>2085</th>\n",
       "      <td>270008</td>\n",
       "      <td>Desierto de Atacama, Caldera  Ad.</td>\n",
       "      <td>27&amp;deg 15' 50'' S</td>\n",
       "      <td>204</td>\n",
       "      <td>2015</td>\n",
       "      <td>3</td>\n",
       "      <td>18</td>\n",
       "      <td>0.0</td>\n",
       "    </tr>\n",
       "    <tr>\n",
       "      <th>2084</th>\n",
       "      <td>270008</td>\n",
       "      <td>Desierto de Atacama, Caldera  Ad.</td>\n",
       "      <td>27&amp;deg 15' 50'' S</td>\n",
       "      <td>204</td>\n",
       "      <td>2015</td>\n",
       "      <td>3</td>\n",
       "      <td>17</td>\n",
       "      <td>0.0</td>\n",
       "    </tr>\n",
       "    <tr>\n",
       "      <th>2083</th>\n",
       "      <td>270008</td>\n",
       "      <td>Desierto de Atacama, Caldera  Ad.</td>\n",
       "      <td>27&amp;deg 15' 50'' S</td>\n",
       "      <td>204</td>\n",
       "      <td>2015</td>\n",
       "      <td>3</td>\n",
       "      <td>16</td>\n",
       "      <td>0.0</td>\n",
       "    </tr>\n",
       "    <tr>\n",
       "      <th>2082</th>\n",
       "      <td>270008</td>\n",
       "      <td>Desierto de Atacama, Caldera  Ad.</td>\n",
       "      <td>27&amp;deg 15' 50'' S</td>\n",
       "      <td>204</td>\n",
       "      <td>2015</td>\n",
       "      <td>3</td>\n",
       "      <td>15</td>\n",
       "      <td>0.0</td>\n",
       "    </tr>\n",
       "    <tr>\n",
       "      <th>2081</th>\n",
       "      <td>270008</td>\n",
       "      <td>Desierto de Atacama, Caldera  Ad.</td>\n",
       "      <td>27&amp;deg 15' 50'' S</td>\n",
       "      <td>204</td>\n",
       "      <td>2015</td>\n",
       "      <td>3</td>\n",
       "      <td>14</td>\n",
       "      <td>0.0</td>\n",
       "    </tr>\n",
       "    <tr>\n",
       "      <th>2079</th>\n",
       "      <td>270008</td>\n",
       "      <td>Desierto de Atacama, Caldera  Ad.</td>\n",
       "      <td>27&amp;deg 15' 50'' S</td>\n",
       "      <td>204</td>\n",
       "      <td>2015</td>\n",
       "      <td>3</td>\n",
       "      <td>12</td>\n",
       "      <td>0.0</td>\n",
       "    </tr>\n",
       "    <tr>\n",
       "      <th>2070</th>\n",
       "      <td>270008</td>\n",
       "      <td>Desierto de Atacama, Caldera  Ad.</td>\n",
       "      <td>27&amp;deg 15' 50'' S</td>\n",
       "      <td>204</td>\n",
       "      <td>2015</td>\n",
       "      <td>3</td>\n",
       "      <td>3</td>\n",
       "      <td>0.0</td>\n",
       "    </tr>\n",
       "    <tr>\n",
       "      <th>2078</th>\n",
       "      <td>270008</td>\n",
       "      <td>Desierto de Atacama, Caldera  Ad.</td>\n",
       "      <td>27&amp;deg 15' 50'' S</td>\n",
       "      <td>204</td>\n",
       "      <td>2015</td>\n",
       "      <td>3</td>\n",
       "      <td>11</td>\n",
       "      <td>0.0</td>\n",
       "    </tr>\n",
       "    <tr>\n",
       "      <th>2077</th>\n",
       "      <td>270008</td>\n",
       "      <td>Desierto de Atacama, Caldera  Ad.</td>\n",
       "      <td>27&amp;deg 15' 50'' S</td>\n",
       "      <td>204</td>\n",
       "      <td>2015</td>\n",
       "      <td>3</td>\n",
       "      <td>10</td>\n",
       "      <td>0.0</td>\n",
       "    </tr>\n",
       "    <tr>\n",
       "      <th>2076</th>\n",
       "      <td>270008</td>\n",
       "      <td>Desierto de Atacama, Caldera  Ad.</td>\n",
       "      <td>27&amp;deg 15' 50'' S</td>\n",
       "      <td>204</td>\n",
       "      <td>2015</td>\n",
       "      <td>3</td>\n",
       "      <td>9</td>\n",
       "      <td>0.0</td>\n",
       "    </tr>\n",
       "    <tr>\n",
       "      <th>2075</th>\n",
       "      <td>270008</td>\n",
       "      <td>Desierto de Atacama, Caldera  Ad.</td>\n",
       "      <td>27&amp;deg 15' 50'' S</td>\n",
       "      <td>204</td>\n",
       "      <td>2015</td>\n",
       "      <td>3</td>\n",
       "      <td>8</td>\n",
       "      <td>0.0</td>\n",
       "    </tr>\n",
       "    <tr>\n",
       "      <th>2074</th>\n",
       "      <td>270008</td>\n",
       "      <td>Desierto de Atacama, Caldera  Ad.</td>\n",
       "      <td>27&amp;deg 15' 50'' S</td>\n",
       "      <td>204</td>\n",
       "      <td>2015</td>\n",
       "      <td>3</td>\n",
       "      <td>7</td>\n",
       "      <td>0.0</td>\n",
       "    </tr>\n",
       "    <tr>\n",
       "      <th>2073</th>\n",
       "      <td>270008</td>\n",
       "      <td>Desierto de Atacama, Caldera  Ad.</td>\n",
       "      <td>27&amp;deg 15' 50'' S</td>\n",
       "      <td>204</td>\n",
       "      <td>2015</td>\n",
       "      <td>3</td>\n",
       "      <td>6</td>\n",
       "      <td>0.0</td>\n",
       "    </tr>\n",
       "    <tr>\n",
       "      <th>2071</th>\n",
       "      <td>270008</td>\n",
       "      <td>Desierto de Atacama, Caldera  Ad.</td>\n",
       "      <td>27&amp;deg 15' 50'' S</td>\n",
       "      <td>204</td>\n",
       "      <td>2015</td>\n",
       "      <td>3</td>\n",
       "      <td>4</td>\n",
       "      <td>0.0</td>\n",
       "    </tr>\n",
       "    <tr>\n",
       "      <th>5858</th>\n",
       "      <td>950001</td>\n",
       "      <td>C.M.A. Eduardo Frei Montalva, Antártica</td>\n",
       "      <td>62&amp;deg 11' 35'' S</td>\n",
       "      <td>45</td>\n",
       "      <td>2015</td>\n",
       "      <td>6</td>\n",
       "      <td>30</td>\n",
       "      <td>0.0</td>\n",
       "    </tr>\n",
       "  </tbody>\n",
       "</table>\n",
       "<p>5859 rows × 8 columns</p>\n",
       "</div>"
      ],
      "text/plain": [
       "          ID                                     LUGAR                LOC  \\\n",
       "4612  450001                          Puerto Aysén Ad.  45&deg 23' 46'' S   \n",
       "4584  430004                           Alto Palena Ad.  43&deg 36' 42'' S   \n",
       "4553  430002                             Futaleufú Ad.  43&deg 11' 20'' S   \n",
       "4639  450004             Teniente Vidal, Coyhaique Ad.  45&deg 35' 38'' S   \n",
       "5398  380013                      Maquehue, Temuco Ad.   38&deg 46' 4'' S   \n",
       "4473  390006                      Pichoy, Valdivia Ad.   39&deg 39' 2'' S   \n",
       "5371  370033            María Dolores, Los Angeles Ad.  37&deg 24' 10'' S   \n",
       "5851  950001  C.M.A. Eduardo Frei Montalva, Antártica   62&deg 11' 35'' S   \n",
       "4670  450005                             Balmaceda Ad.  45&deg 54' 46'' S   \n",
       "3045  270001              Mataveri  Isla de Pascua Ap.   27&deg 9' 38'' S   \n",
       "4444  380013                      Maquehue, Temuco Ad.   38&deg 46' 4'' S   \n",
       "5431  390006                      Pichoy, Valdivia Ad.   39&deg 39' 2'' S   \n",
       "4589  430004                           Alto Palena Ad.  43&deg 36' 42'' S   \n",
       "4616  450001                          Puerto Aysén Ad.  45&deg 23' 46'' S   \n",
       "3616  450001                          Puerto Aysén Ad.  45&deg 23' 46'' S   \n",
       "2651  450001                          Puerto Aysén Ad.  45&deg 23' 46'' S   \n",
       "5542  430002                             Futaleufú Ad.  43&deg 11' 20'' S   \n",
       "3458  390006                      Pichoy, Valdivia Ad.   39&deg 39' 2'' S   \n",
       "2637  450001                          Puerto Aysén Ad.  45&deg 23' 46'' S   \n",
       "4583  430004                           Alto Palena Ad.  43&deg 36' 42'' S   \n",
       "5554  430004                           Alto Palena Ad.  43&deg 36' 42'' S   \n",
       "4430  380013                      Maquehue, Temuco Ad.   38&deg 46' 4'' S   \n",
       "5813  550001  Guardia Marina Zañartu, Pto Williams Ad.  54&deg 55' 54'' S   \n",
       "2631  450001                          Puerto Aysén Ad.  45&deg 23' 46'' S   \n",
       "5549  430004                           Alto Palena Ad.  43&deg 36' 42'' S   \n",
       "4587  430004                           Alto Palena Ad.  43&deg 36' 42'' S   \n",
       "4275  330031   Juan Fernández, Estación Meteorológica.  33&deg 38' 12'' S   \n",
       "5022  270001              Mataveri  Isla de Pascua Ap.   27&deg 9' 38'' S   \n",
       "4556  430002                             Futaleufú Ad.  43&deg 11' 20'' S   \n",
       "3622  450001                          Puerto Aysén Ad.  45&deg 23' 46'' S   \n",
       "...      ...                                       ...                ...   \n",
       "2048  270001              Mataveri  Isla de Pascua Ap.   27&deg 9' 38'' S   \n",
       "2047  270001              Mataveri  Isla de Pascua Ap.   27&deg 9' 38'' S   \n",
       "2046  270001              Mataveri  Isla de Pascua Ap.   27&deg 9' 38'' S   \n",
       "2045  270001              Mataveri  Isla de Pascua Ap.   27&deg 9' 38'' S   \n",
       "2044  270001              Mataveri  Isla de Pascua Ap.   27&deg 9' 38'' S   \n",
       "2042  270001              Mataveri  Isla de Pascua Ap.   27&deg 9' 38'' S   \n",
       "2041  270001              Mataveri  Isla de Pascua Ap.   27&deg 9' 38'' S   \n",
       "2040  270001              Mataveri  Isla de Pascua Ap.   27&deg 9' 38'' S   \n",
       "2038  270001              Mataveri  Isla de Pascua Ap.   27&deg 9' 38'' S   \n",
       "2066  270001              Mataveri  Isla de Pascua Ap.   27&deg 9' 38'' S   \n",
       "2068  270008         Desierto de Atacama, Caldera  Ad.  27&deg 15' 50'' S   \n",
       "2069  270008         Desierto de Atacama, Caldera  Ad.  27&deg 15' 50'' S   \n",
       "2080  270008         Desierto de Atacama, Caldera  Ad.  27&deg 15' 50'' S   \n",
       "2087  270008         Desierto de Atacama, Caldera  Ad.  27&deg 15' 50'' S   \n",
       "2086  270008         Desierto de Atacama, Caldera  Ad.  27&deg 15' 50'' S   \n",
       "2085  270008         Desierto de Atacama, Caldera  Ad.  27&deg 15' 50'' S   \n",
       "2084  270008         Desierto de Atacama, Caldera  Ad.  27&deg 15' 50'' S   \n",
       "2083  270008         Desierto de Atacama, Caldera  Ad.  27&deg 15' 50'' S   \n",
       "2082  270008         Desierto de Atacama, Caldera  Ad.  27&deg 15' 50'' S   \n",
       "2081  270008         Desierto de Atacama, Caldera  Ad.  27&deg 15' 50'' S   \n",
       "2079  270008         Desierto de Atacama, Caldera  Ad.  27&deg 15' 50'' S   \n",
       "2070  270008         Desierto de Atacama, Caldera  Ad.  27&deg 15' 50'' S   \n",
       "2078  270008         Desierto de Atacama, Caldera  Ad.  27&deg 15' 50'' S   \n",
       "2077  270008         Desierto de Atacama, Caldera  Ad.  27&deg 15' 50'' S   \n",
       "2076  270008         Desierto de Atacama, Caldera  Ad.  27&deg 15' 50'' S   \n",
       "2075  270008         Desierto de Atacama, Caldera  Ad.  27&deg 15' 50'' S   \n",
       "2074  270008         Desierto de Atacama, Caldera  Ad.  27&deg 15' 50'' S   \n",
       "2073  270008         Desierto de Atacama, Caldera  Ad.  27&deg 15' 50'' S   \n",
       "2071  270008         Desierto de Atacama, Caldera  Ad.  27&deg 15' 50'' S   \n",
       "5858  950001  C.M.A. Eduardo Frei Montalva, Antártica   62&deg 11' 35'' S   \n",
       "\n",
       "        N   AÑO  MES  DIA   AGUA  \n",
       "4612   10  2015    5   17  146.0  \n",
       "4584  281  2015    5   16   93.7  \n",
       "4553  347  2015    5   16   93.0  \n",
       "4639  310  2015    5   15   78.8  \n",
       "5398   86  2015    6    1   65.3  \n",
       "4473   21  2015    5   29   63.1  \n",
       "5371  120  2015    6    4   62.6  \n",
       "5851   45  2015    6   23   61.8  \n",
       "4670  517  2015    5   15   61.6  \n",
       "3045   48  2015    4    8   59.4  \n",
       "4444   86  2015    5   31   58.5  \n",
       "5431   21  2015    6    4   58.4  \n",
       "4589  281  2015    5   21   57.8  \n",
       "4616   10  2015    5   21   56.0  \n",
       "3616   10  2015    4   12   56.0  \n",
       "2651   10  2015    3   31   53.5  \n",
       "5542  347  2015    6   25   52.2  \n",
       "3458   21  2015    4    1   51.1  \n",
       "2637   10  2015    3   15   49.0  \n",
       "4583  281  2015    5   15   48.8  \n",
       "5554  281  2015    6    7   48.7  \n",
       "4430   86  2015    5   17   47.5  \n",
       "5813   10  2015    6   15   47.2  \n",
       "2631   10  2015    3    8   45.5  \n",
       "5549  281  2015    6    2   45.2  \n",
       "4587  281  2015    5   19   44.6  \n",
       "4275   35  2015    5   17   44.4  \n",
       "5022   48  2015    6   15   44.0  \n",
       "4556  347  2015    5   19   43.6  \n",
       "3622   10  2015    4   19   43.4  \n",
       "...   ...   ...  ...  ...    ...  \n",
       "2048   48  2015    3   12    0.0  \n",
       "2047   48  2015    3   11    0.0  \n",
       "2046   48  2015    3   10    0.0  \n",
       "2045   48  2015    3    9    0.0  \n",
       "2044   48  2015    3    8    0.0  \n",
       "2042   48  2015    3    6    0.0  \n",
       "2041   48  2015    3    5    0.0  \n",
       "2040   48  2015    3    4    0.0  \n",
       "2038   48  2015    3    2    0.0  \n",
       "2066   48  2015    3   30    0.0  \n",
       "2068  204  2015    3    1    0.0  \n",
       "2069  204  2015    3    2    0.0  \n",
       "2080  204  2015    3   13    0.0  \n",
       "2087  204  2015    3   20    0.0  \n",
       "2086  204  2015    3   19    0.0  \n",
       "2085  204  2015    3   18    0.0  \n",
       "2084  204  2015    3   17    0.0  \n",
       "2083  204  2015    3   16    0.0  \n",
       "2082  204  2015    3   15    0.0  \n",
       "2081  204  2015    3   14    0.0  \n",
       "2079  204  2015    3   12    0.0  \n",
       "2070  204  2015    3    3    0.0  \n",
       "2078  204  2015    3   11    0.0  \n",
       "2077  204  2015    3   10    0.0  \n",
       "2076  204  2015    3    9    0.0  \n",
       "2075  204  2015    3    8    0.0  \n",
       "2074  204  2015    3    7    0.0  \n",
       "2073  204  2015    3    6    0.0  \n",
       "2071  204  2015    3    4    0.0  \n",
       "5858   45  2015    6   30    0.0  \n",
       "\n",
       "[5859 rows x 8 columns]"
      ]
     },
     "execution_count": 299,
     "metadata": {},
     "output_type": "execute_result"
    }
   ],
   "source": [
    "data_precipitaciones.sort_values([\"AGUA\"],ascending=False)"
   ]
  },
  {
   "cell_type": "code",
   "execution_count": 324,
   "metadata": {
    "collapsed": false
   },
   "outputs": [
    {
     "data": {
      "text/plain": [
       "723.29999999999995"
      ]
     },
     "execution_count": 324,
     "metadata": {},
     "output_type": "execute_result"
    }
   ],
   "source": [
    "valdivia = data_precipitaciones.loc[data_precipitaciones['LUGAR'] == 'Pichoy, Valdivia Ad.']\n",
    "cummulated_sum = valdivia.AGUA.sum()\n",
    "cummulated_sum"
   ]
  }
 ],
 "metadata": {
  "kernelspec": {
   "display_name": "Python 2",
   "language": "python",
   "name": "python2"
  },
  "language_info": {
   "codemirror_mode": {
    "name": "ipython",
    "version": 2
   },
   "file_extension": ".py",
   "mimetype": "text/x-python",
   "name": "python",
   "nbconvert_exporter": "python",
   "pygments_lexer": "ipython2",
   "version": "2.7.10"
  }
 },
 "nbformat": 4,
 "nbformat_minor": 0
}
