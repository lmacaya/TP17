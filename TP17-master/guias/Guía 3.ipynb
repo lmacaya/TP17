{
 "cells": [
  {
   "cell_type": "markdown",
   "metadata": {},
   "source": [
    "1. Modifique el programa test.py que creó en la guía 01 y que resuelve la ecuación cuadrática\n",
    "ax2 + bx + c = 0, para que ahora el programa informe que existen dos soluciones reales, y las\n",
    "imprima, si el discriminante b\n",
    "2 −4ac es positivo, o que informe que no existe solución real (si el\n",
    "discriminante es negativo), o bien que informe que existe sólo una solución real, y la imprima\n",
    "(si el discriminante es nulo)."
   ]
  },
  {
   "cell_type": "code",
   "execution_count": 31,
   "metadata": {
    "collapsed": false
   },
   "outputs": [],
   "source": [
    "def cuadratica(a, b, c):\n",
    "    from math import sqrt\n",
    "\n",
    "    print(\"Resolveremos la ecuación (- b +- ( b ** 2 - 4 * a * c) ** 0.5) / 2 * a\")\n",
    "    \n",
    "    a=float(a)\n",
    "    b=float(b)\n",
    "    c=float(c)\n",
    "\n",
    "    print(\"Valor a: {0}\\nValor b: {1}\\nValor c: {2}\".format(a, b, c))\n",
    "\n",
    "    discriminant = float(b ** 2 - 4 * a * c)\n",
    "    \n",
    "    print(\"Discriminante: %.1f\" % discriminant)\n",
    "\n",
    "    if  discriminant > 0:\n",
    "        solucion_1 = ( - b  + sqrt(discriminant)) / 2 * a\n",
    "        solucion_2 = ( - b  - sqrt(discriminant)) / 2 * a\n",
    "        print(\"Existen dos soluciones: {0}, {1}\".format (solucion_1, solucion_2))\n",
    "        return solucion_1, solucion_2\n",
    "    elif discriminant < 0:\n",
    "        print(\"No existe solución real.\")\n",
    "    else:\n",
    "        solucion_1 =  ( -  b  + sqrt(discriminant)) / 2 * a\n",
    "        print(\"Existe una solución: {0}\".format (solucion_1))\n",
    "        return solucion_1"
   ]
  },
  {
   "cell_type": "code",
   "execution_count": 37,
   "metadata": {
    "collapsed": false
   },
   "outputs": [
    {
     "name": "stdout",
     "output_type": "stream",
     "text": [
      "Resolveremos la ecuación (- b +- ( b ** 2 - 4 * a * c) ** 0.5) / 2 * a\n",
      "Valor a: 1.0\n",
      "Valor b: 2.0\n",
      "Valor c: 1.0\n",
      "Discriminante: 0.0\n",
      "Existe una solución: -1.0\n"
     ]
    },
    {
     "data": {
      "text/plain": [
       "-1.0"
      ]
     },
     "execution_count": 37,
     "metadata": {},
     "output_type": "execute_result"
    }
   ],
   "source": [
    "cuadratica(1,2,1)"
   ]
  },
  {
   "cell_type": "markdown",
   "metadata": {},
   "source": [
    "2.Escriba un programa en Python que calcule el valor de la siguiente suma:\n",
    "1 +\n",
    "1\n",
    "2\n",
    "+\n",
    "1\n",
    "22 +\n",
    "1\n",
    "23 + \u0001 \u0001 \u0001 +\n",
    "1\n",
    "299 +\n",
    "1\n",
    "2100 : (1)\n",
    "Advertencia!: cuidado con la división por entero. Recuerde que en Python la división de dos\n",
    "enteros suministra la parte entera del cuociente (1/2=0). En este ejercicio, por otro lado, usted\n",
    "debe calcular un float (número con decimales)."
   ]
  },
  {
   "cell_type": "code",
   "execution_count": 47,
   "metadata": {
    "collapsed": false
   },
   "outputs": [
    {
     "data": {
      "text/plain": [
       "2.0"
      ]
     },
     "execution_count": 47,
     "metadata": {},
     "output_type": "execute_result"
    }
   ],
   "source": [
    "def func(base, exp):\n",
    "    value = 0\n",
    "    for x in range(exp+1):\n",
    "        expr = base ** - x\n",
    "        value += expr\n",
    "    return value\n",
    "\n",
    "func(2,100)"
   ]
  },
  {
   "cell_type": "markdown",
   "metadata": {},
   "source": [
    "3.El factorial de un número entero positivo n, denotado por n! es definido por\n",
    "n! = 1 * 2 * 3 ... (n - 1) * n: (2)\n",
    "Por ejemplo, 3! = 1 * 2 * 3 = 6 y 10! = 3628800. Escriba un programa en Python que pregunte\n",
    "al usuario por el valor de n, y que calcule e imprima su factorial, es decir, n!.\n",
    "\n",
    "4.Modifique el código anterior para que su programa verifique, antes de calcular el factorial, que\n",
    "el número suministrado es realmente un entero positivo, y sólo calcule el factorial en ese caso,\n",
    "y que en caso contrario informe al usuario que el número ingresado no es apropiado.\n",
    "\n",
    "5.Modifique el programa anterior para que ahora el factorial defina una función mifactorial,\n",
    "de modo que el factorial de n se pueda luego llamar como mifactorial(n).\n",
    "\n",
    "6.Guarde el código anterior, que define su función factorial, en un archivo misfunciones.py. Este\n",
    "archivo constituye un módulo. A continuación, en una sesión interactiva de Python, importe su\n",
    "función usando primero import misfunciones y llame a su función. Luego, importe ahora la\n",
    "función de la segunda forma vista en clases, es decir, usando from misfunciones import * y\n",
    "vea cómo funciona la llamada a la función ahora.\n"
   ]
  },
  {
   "cell_type": "code",
   "execution_count": 12,
   "metadata": {
    "collapsed": false
   },
   "outputs": [],
   "source": [
    "def mi_factorial(n):\n",
    "    expr = 1\n",
    "    if n == 0:\n",
    "        return 1\n",
    "    else:\n",
    "        while n > 0:\n",
    "            expr *= n\n",
    "            n -= 1\n",
    "        return expr"
   ]
  },
  {
   "cell_type": "code",
   "execution_count": 20,
   "metadata": {
    "collapsed": false
   },
   "outputs": [
    {
     "data": {
      "text/plain": [
       "2"
      ]
     },
     "execution_count": 20,
     "metadata": {},
     "output_type": "execute_result"
    }
   ],
   "source": [
    "import misfunciones\n",
    "misfunciones.mi_factorial(2)"
   ]
  },
  {
   "cell_type": "markdown",
   "metadata": {},
   "source": [
    "7.El factorial es una función comúnmente usada, y ya está implementada en diversos módulos\n",
    "populares de Python, por ejemplo, en el módulo math. Para verificar esto, importe el módulo\n",
    "math de las tres formas discutidas en clase1 y verifique que la función factorial entrega\n",
    "los mismos valores ya calculados por usted. Aproveche que tiene cargado el módulo math e\n",
    "investigue qué funciones y variables están definidas en este módulo."
   ]
  },
  {
   "cell_type": "code",
   "execution_count": 6,
   "metadata": {
    "collapsed": false
   },
   "outputs": [
    {
     "data": {
      "text/plain": [
       "1"
      ]
     },
     "execution_count": 6,
     "metadata": {},
     "output_type": "execute_result"
    }
   ],
   "source": [
    "def factorial(n):\n",
    "    import math\n",
    "    if n >= 0:\n",
    "         return math.factorial(n)\n",
    "    else:\n",
    "        print(\"El número no es apropiado\")\n",
    "\n",
    "factorial(0)"
   ]
  },
  {
   "cell_type": "code",
   "execution_count": 57,
   "metadata": {
    "collapsed": false
   },
   "outputs": [
    {
     "data": {
      "text/plain": [
       "['__doc__',\n",
       " '__name__',\n",
       " '__package__',\n",
       " 'acos',\n",
       " 'acosh',\n",
       " 'asin',\n",
       " 'asinh',\n",
       " 'atan',\n",
       " 'atan2',\n",
       " 'atanh',\n",
       " 'ceil',\n",
       " 'copysign',\n",
       " 'cos',\n",
       " 'cosh',\n",
       " 'degrees',\n",
       " 'e',\n",
       " 'erf',\n",
       " 'erfc',\n",
       " 'exp',\n",
       " 'expm1',\n",
       " 'fabs',\n",
       " 'factorial',\n",
       " 'floor',\n",
       " 'fmod',\n",
       " 'frexp',\n",
       " 'fsum',\n",
       " 'gamma',\n",
       " 'hypot',\n",
       " 'isinf',\n",
       " 'isnan',\n",
       " 'ldexp',\n",
       " 'lgamma',\n",
       " 'log',\n",
       " 'log10',\n",
       " 'log1p',\n",
       " 'modf',\n",
       " 'pi',\n",
       " 'pow',\n",
       " 'radians',\n",
       " 'sin',\n",
       " 'sinh',\n",
       " 'sqrt',\n",
       " 'tan',\n",
       " 'tanh',\n",
       " 'trunc']"
      ]
     },
     "execution_count": 57,
     "metadata": {},
     "output_type": "execute_result"
    }
   ],
   "source": [
    "import math\n",
    "dir(math)"
   ]
  }
 ],
 "metadata": {
  "anaconda-cloud": {},
  "kernelspec": {
   "display_name": "Python 2",
   "language": "python",
   "name": "python2"
  },
  "language_info": {
   "codemirror_mode": {
    "name": "ipython",
    "version": 2
   },
   "file_extension": ".py",
   "mimetype": "text/x-python",
   "name": "python",
   "nbconvert_exporter": "python",
   "pygments_lexer": "ipython2",
   "version": "2.7.10"
  }
 },
 "nbformat": 4,
 "nbformat_minor": 1
}
