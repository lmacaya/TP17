{
 "cells": [
  {
   "cell_type": "markdown",
   "metadata": {},
   "source": [
    "1. Modifique el programa test.py que creó en la guía 01 y que resuelve la ecuación cuadrática\n",
    "ax2 + bx + c = 0, para que ahora el programa informe que existen dos soluciones reales, y las\n",
    "imprima, si el discriminante b\n",
    "2 −4ac es positivo, o que informe que no existe solución real (si el\n",
    "discriminante es negativo), o bien que informe que existe sólo una solución real, y la imprima\n",
    "(si el discriminante es nulo)."
   ]
  },
  {
   "cell_type": "code",
   "execution_count": 11,
   "metadata": {
    "collapsed": false
   },
   "outputs": [
    {
     "name": "stdout",
     "output_type": "stream",
     "text": [
      "Resolveremos la ecuación (- b +- ( b ** 2 - 4 * a * c) ** 0.5) / 2 * a\n",
      "Valor de a = 1\n",
      "Valor de b = 2\n",
      "Valor de c = 3\n",
      "(1.0, 2.0, 3.0)\n",
      "-8.0\n",
      "No existe solución real.\n"
     ]
    }
   ],
   "source": [
    "print(\"Resolveremos la ecuación (- b +- ( b ** 2 - 4 * a * c) ** 0.5) / 2 * a\")\n",
    "a=float(raw_input(\"Valor de a = \"))\n",
    "b=float(raw_input(\"Valor de b = \"))\n",
    "c=float(raw_input(\"Valor de c = \"))\n",
    "\n",
    "print(a, b, c)\n",
    "\n",
    "discriminant = (b ** 2) - 4 * a * c\n",
    "print(discriminant)\n",
    "\n",
    "if  discriminant > 0:\n",
    "    solucion_1 = \"- ( \" + str(b) + \" + ( \"+ str(b) +\" ** 2 - 4 * \" + str(a*c) + \" ) ** 0.5 ) / 2 * \"+ str(a)\n",
    "    solucion_2 = \"- ( \" + str(b) + \" - ( \"+ str(b) +\" ** 2 - 4 * \" + str(a*c) + \" ) ** 0.5 ) / 2 * \"+ str(a)\n",
    "    print(\"Existen dos soluciones: {0}, {1}\".format (solucion_1, solucion_2))\n",
    "elif discriminant < 0:\n",
    "    print(\"No existe solución real.\")\n",
    "else:\n",
    "    "
   ]
  }
 ],
 "metadata": {
  "kernelspec": {
   "display_name": "Python [default]",
   "language": "python",
   "name": "python2"
  },
  "language_info": {
   "codemirror_mode": {
    "name": "ipython",
    "version": 2
   },
   "file_extension": ".py",
   "mimetype": "text/x-python",
   "name": "python",
   "nbconvert_exporter": "python",
   "pygments_lexer": "ipython2",
   "version": "2.7.12"
  }
 },
 "nbformat": 4,
 "nbformat_minor": 1
}
