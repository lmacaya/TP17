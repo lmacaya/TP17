{
 "cells": [
  {
   "cell_type": "code",
   "execution_count": 1,
   "metadata": {
    "collapsed": true
   },
   "outputs": [],
   "source": [
    "%matplotlib inline"
   ]
  },
  {
   "cell_type": "markdown",
   "metadata": {},
   "source": [
    "1. Grafique la función de Bessels de orden 5 entre x=0 y x=20 y encuentre sus raíces en ese intervalo"
   ]
  },
  {
   "cell_type": "code",
   "execution_count": 42,
   "metadata": {
    "collapsed": false
   },
   "outputs": [],
   "source": [
    "def calculate_Bessels(n, x1, x2):\n",
    "    import numpy as np\n",
    "    import matplotlib.pyplot as plt\n",
    "    from scipy.special import jn, jn_zeros\n",
    "    \n",
    "    x_array = np.linspace(x1, x2, 100)\n",
    "    plt.plot(x_array, jn(n, x_array), label=r\"$J_%d(x)$\" % n)\n",
    "    plt.legend()\n",
    "    plt.show()\n",
    "    \n",
    "    zeros = jn_zeros(n, n-1)\n",
    "    print(zeros)\n",
    "    return zeros"
   ]
  },
  {
   "cell_type": "code",
   "execution_count": 43,
   "metadata": {
    "collapsed": false
   },
   "outputs": [
    {
     "data": {
      "image/png": "[encoded data removed]",
      "text/plain": [
       "<matplotlib.figure.Figure at 0xad92320>"
      ]
     },
     "metadata": {},
     "output_type": "display_data"
    },
    {
     "name": "stdout",
     "output_type": "stream",
     "text": [
      "[  8.77148382  12.3386042   15.70017408  18.98013388]\n"
     ]
    }
   ],
   "source": [
    "zeros = calculate_Bessels(5, 0, 20)"
   ]
  },
  {
   "cell_type": "markdown",
   "metadata": {},
   "source": [
    "2.Integre la función de Bessels entre 0 y su 3 raiz."
   ]
  },
  {
   "cell_type": "code",
   "execution_count": 21,
   "metadata": {
    "collapsed": false
   },
   "outputs": [
    {
     "name": "stdout",
     "output_type": "stream",
     "text": [
      "(1.2164867281840053, 2.6561881958754936e-14)\n"
     ]
    }
   ],
   "source": [
    "from scipy.integrate import quad\n",
    "from scipy.special import jn, jn_zeros\n",
    "\n",
    "def integrate_Bessel(x, n):\n",
    "    return jn(n, x)\n",
    "\n",
    "zeros = calculate_Bessels(5, 0, 20)\n",
    "x_lower = 0\n",
    "x_upper = zeros[2]\n",
    "\n",
    "val, errabs = quad(integrate_Bessel, x_lower, x_upper, args = (5))\n",
    "print(val, errabs)"
   ]
  },
  {
   "cell_type": "markdown",
   "metadata": {},
   "source": [
    "3.Calcule las siguientes integrales numéricamente:"
   ]
  },
  {
   "cell_type": "code",
   "execution_count": 36,
   "metadata": {
    "collapsed": false
   },
   "outputs": [
    {
     "name": "stdout",
     "output_type": "stream",
     "text": [
      "(-632.2615291067875, 8413.665695923426)\n",
      "(1.3591409142295419, 1.1806439979793087e-11)\n",
      "(1250000250000000.5, 13.877790583372024)\n"
     ]
    }
   ],
   "source": [
    "import numpy as np\n",
    "from scipy.integrate import quad\n",
    "\n",
    "a = [lambda x: x * np.sin(2 * (x ** 3) - 10), 0, 100]\n",
    "b = [lambda x: x * np.exp((-x ** 2) + 5), -2, 28]\n",
    "c = [lambda x: 10 * (x ** 3) + (x ** 7), 0, 100]\n",
    "\n",
    "quad_list = [a, b, c]\n",
    "\n",
    "for q in quad_list:\n",
    "    print(quad(q[0], q[1], q[2]))"
   ]
  },
  {
   "cell_type": "markdown",
   "metadata": {},
   "source": [
    "4.Calcule el trabajo si el gas se expande de 0.1 $m^3$ a 0.6$m^3$ manteniendo la temperatura constante"
   ]
  },
  {
   "cell_type": "code",
   "execution_count": 87,
   "metadata": {
    "collapsed": false
   },
   "outputs": [
    {
     "data": {
      "text/plain": [
       "-4434.898801788306"
      ]
     },
     "execution_count": 87,
     "metadata": {},
     "output_type": "execute_result"
    }
   ],
   "source": [
    "# variables constantes\n",
    "\n",
    "R = 8.314\n",
    "n = 1\n",
    "a = 0.657\n",
    "b = 5.62 * 10 ** -5\n",
    "T = 298\n",
    "\n",
    "def vdw_gas_work_integration(V):\n",
    "    P = ((n * R * T) / (V - (n * b))) - (a * n **2) / (V ** 2)\n",
    "    return P\n",
    "\n",
    "val, errrabs = quad(vdw_gas_work_integration, 0.6, 0.1)\n",
    "val"
   ]
  },
  {
   "cell_type": "markdown",
   "metadata": {},
   "source": [
    "5.Dada las siguientes matrices, calcule las siguientes operaciones:\n",
    "(a) Inversa de A\n",
    "(b) $\\exp{A}$\n",
    "(c) det(B)"
   ]
  },
  {
   "cell_type": "code",
   "execution_count": 58,
   "metadata": {
    "collapsed": false
   },
   "outputs": [],
   "source": [
    "import numpy as np\n",
    "\n",
    "A = np.matrix([[10, 8, 0 , 1],\n",
    "             [1, 3, 8, 9],\n",
    "             [5, 9, 0, 1],\n",
    "             [6, 7, 13, 9]])\n",
    "B = np.matrix([[9, 8, 7, 4],\n",
    "             [3, 6, 8, 7],\n",
    "             [5, 2, 2, 1],\n",
    "             [6, 12, 0, 9]])"
   ]
  },
  {
   "cell_type": "code",
   "execution_count": 75,
   "metadata": {
    "collapsed": false
   },
   "outputs": [],
   "source": [
    "matrix_dict = {\"inv_A\": A.I, \n",
    "               \"e_A\": np.exp(A), \n",
    "               \"det_B\": np.linalg.det(B), \n",
    "               \"eig_A\": np.linalg.eig(A), \n",
    "               \"traza_A\": np.sum(A.diagonal())\n",
    "               }"
   ]
  },
  {
   "cell_type": "markdown",
   "metadata": {},
   "source": [
    "6.Una molécula de agua tiene las siguientes coordenadas cartesianas en Angstrom:"
   ]
  },
  {
   "cell_type": "code",
   "execution_count": 127,
   "metadata": {
    "collapsed": false
   },
   "outputs": [
    {
     "data": {
      "text/plain": [
       "array([[ 0.      ,  0.      ,  0.      ],\n",
       "       [ 0.758602,  0.      ,  0.504284],\n",
       "       [ 0.758602,  0.      , -0.504284]])"
      ]
     },
     "execution_count": 127,
     "metadata": {},
     "output_type": "execute_result"
    }
   ],
   "source": [
    "xyz = np.array([[0.000000, 0.000000, 0.000000],[0.758602, 0.000000, 0.504284],[0.758602, 0.000000, -0.504284]])\n",
    "xyz"
   ]
  },
  {
   "cell_type": "markdown",
   "metadata": {},
   "source": [
    "(a) Guarde las coordenadas x,y,z y el símbolo atómico en un array de numpy.\n",
    "(b) Escriba un diccionario que tiene como llaves símbolos atómicos y como valor la masa\n",
    "atómica. (O: 15.999 g/mol, H: 1.000 g/mol)"
   ]
  },
  {
   "cell_type": "code",
   "execution_count": 108,
   "metadata": {
    "collapsed": false
   },
   "outputs": [],
   "source": [
    "atomic_mass_dict = {\"O\": 15.999,\n",
    "                   \"H\": 1.000\n",
    "                   }\n",
    "molecule_atomic_mass = 17.999"
   ]
  },
  {
   "cell_type": "code",
   "execution_count": 131,
   "metadata": {
    "collapsed": false
   },
   "outputs": [],
   "source": [
    "def moment_of_inertia(molecule_atomic_mass):\n",
    "    \n",
    "    element_xx = np.sum(molecule_atomic_mass * ((xyz[:,1] ** 2) + (xyz[:, 2] ** 2)))\n",
    "    element_yy = np.sum(molecule_atomic_mass * ((xyz[:,0] ** 2) + (xyz[:, 2] ** 2)))\n",
    "    element_zz = np.sum(molecule_atomic_mass * ((xyz[:,0] ** 2) + (xyz[:, 1] ** 2)))\n",
    "    element_xy = np.sum(molecule_atomic_mass * (xyz[:, 1] + xyz[:, 0]))\n",
    "    element_xz = np.sum(molecule_atomic_mass * (xyz[:, 0] + xyz[:, 2]))\n",
    "    element_yz = np.sum(molecule_atomic_mass * (xyz[:, 1] + xyz[:, 2]))\n",
    "    element_yx = element_xy\n",
    "    element_zx = element_xz\n",
    "    element_zy = element_yz\n",
    "    \n",
    "    inertia_tensor = np.matrix([[element_xx, element_xy, element_xz],\n",
    "                                [element_yx, element_yy, element_yz],\n",
    "                                [element_zx, element_zy, element_zz]])\n",
    "    \n",
    "    return (inertia_tensor)"
   ]
  },
  {
   "cell_type": "code",
   "execution_count": 134,
   "metadata": {
    "collapsed": false
   },
   "outputs": [
    {
     "name": "stdout",
     "output_type": "stream",
     "text": [
      "[-22.40508669  57.07570959  25.07017097]\n"
     ]
    }
   ],
   "source": [
    "water_moi = moment_of_inertia(molecule_atomic_mass)\n",
    "water_moi_eig = np.linalg.eigvals(water_moi)\n",
    "print(water_moi_eig)"
   ]
  },
  {
   "cell_type": "markdown",
   "metadata": {},
   "source": [
    "7.Resuelva numéricamente la siguiente ecuación diferencial y grafique tanto la solución numérica como la solución analítica entre 0 y 5 y compare ambos\n",
    "resultados.    \n"
   ]
  },
  {
   "cell_type": "code",
   "execution_count": 136,
   "metadata": {
    "collapsed": true
   },
   "outputs": [],
   "source": [
    "from scipy.integrate import odeint"
   ]
  },
  {
   "cell_type": "code",
   "execution_count": null,
   "metadata": {
    "collapsed": true
   },
   "outputs": [],
   "source": [
    "def"
   ]
  }
 ],
 "metadata": {
  "kernelspec": {
   "display_name": "Python 2",
   "language": "python",
   "name": "python2"
  },
  "language_info": {
   "codemirror_mode": {
    "name": "ipython",
    "version": 2
   },
   "file_extension": ".py",
   "mimetype": "text/x-python",
   "name": "python",
   "nbconvert_exporter": "python",
   "pygments_lexer": "ipython2",
   "version": "2.7.10"
  }
 },
 "nbformat": 4,
 "nbformat_minor": 0
}
